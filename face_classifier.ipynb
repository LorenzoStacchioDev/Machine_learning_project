{
 "cells": [
  {
   "cell_type": "code",
   "execution_count": 1,
   "metadata": {
    "pycharm": {
     "is_executing": false
    }
   },
   "outputs": [],
   "source": [
    "#!/usr/bin/python\n",
    "# -*- coding: utf-8 -*-\n",
    "import warnings\n",
    "warnings.filterwarnings('ignore')"
   ]
  },
  {
   "cell_type": "code",
   "execution_count": 2,
   "metadata": {
    "pycharm": {
     "is_executing": false
    },
    "scrolled": false
   },
   "outputs": [
    {
     "name": "stderr",
     "output_type": "stream",
     "text": [
      "Using TensorFlow backend.\n"
     ]
    }
   ],
   "source": [
    "import tensorflow\n",
    "from  keras.models import Sequential, Model\n",
    "from  keras.layers import Input, Dense, LeakyReLU, Activation, Conv2D, MaxPooling2D, Dropout, GlobalAveragePooling2D, InputLayer, Flatten, BatchNormalization, Reshape, Lambda\n",
    "\n",
    "from  keras.callbacks import ModelCheckpoint, EarlyStopping, ReduceLROnPlateau\n",
    "from  keras.applications.vgg16 import VGG16, preprocess_input\n",
    "#from  keras.applications import ResNet152V2,ResNet101V2,ResNet50V2 \n",
    "#from  keras.applications.resnet_v2 import preprocess_input \n",
    "\n",
    "from  keras.optimizers import RMSprop, Adam\n",
    "from  keras.preprocessing.image import load_img, ImageDataGenerator\n",
    "from  keras.utils import multi_gpu_model\n",
    "from IPython.display import Image \n",
    "\n",
    "import keras_metrics\n",
    "import pandas\n",
    "import ast\n",
    "import numpy as np\n",
    "import matplotlib.patches as patches \n",
    "import matplotlib.pyplot as plt\n",
    "import matplotlib.image as mpimg\n",
    "from PIL import Image, ImageDraw"
   ]
  },
  {
   "cell_type": "code",
   "execution_count": 3,
   "metadata": {},
   "outputs": [],
   "source": [
    "%matplotlib inline\n",
    "import matplotlib.pyplot as plt\n",
    "import matplotlib.image as mpimg\n",
    "\n",
    "import keras.backend as K\n",
    "import numpy as np\n",
    "import random"
   ]
  },
  {
   "cell_type": "code",
   "execution_count": 4,
   "metadata": {},
   "outputs": [],
   "source": [
    "BATCH_SIZE = 64\n",
    "IMG_SIZE = 224"
   ]
  },
  {
   "cell_type": "code",
   "execution_count": 80,
   "metadata": {},
   "outputs": [],
   "source": [
    "train_set = \"./dataset/FACE_CLASSIFIER/train/\"\n",
    "validation_set = \"./dataset/NUOVO/val/\"\n",
    "test_set = \"./dataset/NUOVO/test/\""
   ]
  },
  {
   "cell_type": "code",
   "execution_count": 81,
   "metadata": {},
   "outputs": [],
   "source": [
    "train_df = pandas.read_csv(\"./dataset/FACE_CLASSIFIER/train.csv\")\n",
    "valid_df = pandas.read_csv(\"./dataset/FACE_CLASSIFIER/val.csv\")\n",
    "test_df = pandas.read_csv(\"./dataset/FACE_CLASSIFIER/test.csv\")"
   ]
  },
  {
   "cell_type": "code",
   "execution_count": 7,
   "metadata": {},
   "outputs": [
    {
     "name": "stdout",
     "output_type": "stream",
     "text": [
      "Found 33175 validated image filenames.\n",
      "Found 3688 validated image filenames.\n"
     ]
    }
   ],
   "source": [
    "train_datagen = ImageDataGenerator(\n",
    "    rescale=1./255,)\n",
    "    #preprocessing_function = preprocess_input)\n",
    "\n",
    "train_generator = train_datagen.flow_from_dataframe(\n",
    "        dataframe=train_df,\n",
    "        directory=\"./\",\n",
    "        x_col=\"image_path\",\n",
    "        y_col=\"face\",\n",
    "        class_mode=\"raw\",\n",
    "        shuffle=True,\n",
    "        target_size=(IMG_SIZE, IMG_SIZE),\n",
    "        batch_size=BATCH_SIZE)\n",
    "\n",
    "valid_generator = train_datagen.flow_from_dataframe(\n",
    "        dataframe=valid_df,\n",
    "        directory=\"./\",\n",
    "        x_col=\"image_path\",\n",
    "        y_col=\"face\",\n",
    "        class_mode=\"raw\",\n",
    "        shuffle=True,\n",
    "        target_size=(IMG_SIZE, IMG_SIZE),\n",
    "        batch_size=BATCH_SIZE)"
   ]
  },
  {
   "cell_type": "code",
   "execution_count": 8,
   "metadata": {},
   "outputs": [],
   "source": [
    "step_size_train = train_generator.samples/train_generator.batch_size\n",
    "step_size_valid = valid_generator.samples/valid_generator.batch_size"
   ]
  },
  {
   "cell_type": "code",
   "execution_count": 97,
   "metadata": {},
   "outputs": [],
   "source": [
    "darknetv1 = Sequential()\n",
    "darknetv1.add(InputLayer(input_shape=(IMG_SIZE,IMG_SIZE,3)))\n",
    "#darknetv1.add(InputLayer(batch_input_shape=(BATCH_SIZE,IMG_SIZE,IMG_SIZE,3)))\n",
    "darknetv1.add(Conv2D(64,3, strides=(1,1), padding = \"same\"))\n",
    "darknetv1.add(MaxPooling2D(pool_size=(2, 2)))\n",
    "darknetv1.add(Conv2D(192,3, strides=(1,1), padding = \"same\"))\n",
    "darknetv1.add(MaxPooling2D(pool_size=(2, 2)))\n",
    "\n",
    "darknetv1.add(Conv2D(128,1, strides=(1,1), padding = \"same\"))\n",
    "darknetv1.add(Conv2D(256,3, strides=(1,1), padding = \"same\"))\n",
    "darknetv1.add(Conv2D(256,1, strides=(1,1), padding = \"same\"))\n",
    "darknetv1.add(Conv2D(512,3, strides=(1,1), padding = \"same\"))\n",
    "darknetv1.add(MaxPooling2D(pool_size=(2, 2)))\n",
    "\n",
    "darknetv1.add(Conv2D(256,1, strides=(1,1), padding = \"same\"))\n",
    "darknetv1.add(Conv2D(512,3, strides=(1,1), padding = \"same\"))\n",
    "darknetv1.add(Conv2D(256,1, strides=(1,1), padding = \"same\"))\n",
    "darknetv1.add(Conv2D(512,3, strides=(1,1), padding = \"same\"))\n",
    "darknetv1.add(Conv2D(256,1, strides=(1,1), padding = \"same\"))\n",
    "darknetv1.add(Conv2D(512,3, strides=(1,1), padding = \"same\"))\n",
    "darknetv1.add(Conv2D(256,1, strides=(1,1), padding = \"same\"))\n",
    "darknetv1.add(Conv2D(512,3, strides=(1,1), padding = \"same\"))\n",
    "darknetv1.add(Conv2D(512,1, strides=(1,1), padding = \"same\"))\n",
    "darknetv1.add(Conv2D(1024,3, strides=(1,1), padding = \"same\"))\n",
    "darknetv1.add(MaxPooling2D(pool_size=(2, 2)))\n",
    "\n",
    "darknetv1.add(Conv2D(512,1, strides=(1,1), padding = \"same\"))\n",
    "darknetv1.add(Conv2D(1024,3, strides=(1,1), padding = \"same\"))\n",
    "darknetv1.add(Conv2D(512,1, strides=(1,1), padding = \"same\"))\n",
    "darknetv1.add(Conv2D(1024,3, strides=(1,1), padding = \"same\"))\n",
    "darknetv1.add(GlobalAveragePooling2D())\n",
    "\n",
    "# Da aggiungere dopo\n",
    "#darknetv1.add(Conv2D(1024,3, strides=(1,1), padding = \"same\"))\n",
    "#darknetv1.add(Conv2D(1024,3, strides=(2,2), padding = \"same\"))\n",
    "#darknetv1.add(Conv2D(1024,3, strides=(1,1), padding = \"same\"))\n",
    "#darknetv1.add(Conv2D(1024,3, strides=(1,1), padding = \"same\"))"
   ]
  },
  {
   "cell_type": "code",
   "execution_count": 98,
   "metadata": {
    "scrolled": true
   },
   "outputs": [
    {
     "name": "stdout",
     "output_type": "stream",
     "text": [
      "Model: \"sequential_4\"\n",
      "_________________________________________________________________\n",
      "Layer (type)                 Output Shape              Param #   \n",
      "=================================================================\n",
      "conv2d_61 (Conv2D)           (None, 224, 224, 64)      1792      \n",
      "_________________________________________________________________\n",
      "max_pooling2d_13 (MaxPooling (None, 112, 112, 64)      0         \n",
      "_________________________________________________________________\n",
      "conv2d_62 (Conv2D)           (None, 112, 112, 192)     110784    \n",
      "_________________________________________________________________\n",
      "max_pooling2d_14 (MaxPooling (None, 56, 56, 192)       0         \n",
      "_________________________________________________________________\n",
      "conv2d_63 (Conv2D)           (None, 56, 56, 128)       24704     \n",
      "_________________________________________________________________\n",
      "conv2d_64 (Conv2D)           (None, 56, 56, 256)       295168    \n",
      "_________________________________________________________________\n",
      "conv2d_65 (Conv2D)           (None, 56, 56, 256)       65792     \n",
      "_________________________________________________________________\n",
      "conv2d_66 (Conv2D)           (None, 56, 56, 512)       1180160   \n",
      "_________________________________________________________________\n",
      "max_pooling2d_15 (MaxPooling (None, 28, 28, 512)       0         \n",
      "_________________________________________________________________\n",
      "conv2d_67 (Conv2D)           (None, 28, 28, 256)       131328    \n",
      "_________________________________________________________________\n",
      "conv2d_68 (Conv2D)           (None, 28, 28, 512)       1180160   \n",
      "_________________________________________________________________\n",
      "conv2d_69 (Conv2D)           (None, 28, 28, 256)       131328    \n",
      "_________________________________________________________________\n",
      "conv2d_70 (Conv2D)           (None, 28, 28, 512)       1180160   \n",
      "_________________________________________________________________\n",
      "conv2d_71 (Conv2D)           (None, 28, 28, 256)       131328    \n",
      "_________________________________________________________________\n",
      "conv2d_72 (Conv2D)           (None, 28, 28, 512)       1180160   \n",
      "_________________________________________________________________\n",
      "conv2d_73 (Conv2D)           (None, 28, 28, 256)       131328    \n",
      "_________________________________________________________________\n",
      "conv2d_74 (Conv2D)           (None, 28, 28, 512)       1180160   \n",
      "_________________________________________________________________\n",
      "conv2d_75 (Conv2D)           (None, 28, 28, 512)       262656    \n",
      "_________________________________________________________________\n",
      "conv2d_76 (Conv2D)           (None, 28, 28, 1024)      4719616   \n",
      "_________________________________________________________________\n",
      "max_pooling2d_16 (MaxPooling (None, 14, 14, 1024)      0         \n",
      "_________________________________________________________________\n",
      "conv2d_77 (Conv2D)           (None, 14, 14, 512)       524800    \n",
      "_________________________________________________________________\n",
      "conv2d_78 (Conv2D)           (None, 14, 14, 1024)      4719616   \n",
      "_________________________________________________________________\n",
      "conv2d_79 (Conv2D)           (None, 14, 14, 512)       524800    \n",
      "_________________________________________________________________\n",
      "conv2d_80 (Conv2D)           (None, 14, 14, 1024)      4719616   \n",
      "_________________________________________________________________\n",
      "global_average_pooling2d_4 ( (None, 1024)              0         \n",
      "=================================================================\n",
      "Total params: 22,395,456\n",
      "Trainable params: 22,395,456\n",
      "Non-trainable params: 0\n",
      "_________________________________________________________________\n"
     ]
    }
   ],
   "source": [
    "darknetv1.summary()"
   ]
  },
  {
   "cell_type": "code",
   "execution_count": 99,
   "metadata": {},
   "outputs": [],
   "source": [
    "darknetv1.add(Dense(512, activation = \"relu\"))\n",
    "darknetv1.add(Dense(512, activation = \"relu\"))\n",
    "darknetv1.add(Dense(1, activation = \"sigmoid\"))"
   ]
  },
  {
   "cell_type": "code",
   "execution_count": 100,
   "metadata": {
    "scrolled": true
   },
   "outputs": [
    {
     "name": "stdout",
     "output_type": "stream",
     "text": [
      "Model: \"sequential_4\"\n",
      "_________________________________________________________________\n",
      "Layer (type)                 Output Shape              Param #   \n",
      "=================================================================\n",
      "conv2d_61 (Conv2D)           (None, 224, 224, 64)      1792      \n",
      "_________________________________________________________________\n",
      "max_pooling2d_13 (MaxPooling (None, 112, 112, 64)      0         \n",
      "_________________________________________________________________\n",
      "conv2d_62 (Conv2D)           (None, 112, 112, 192)     110784    \n",
      "_________________________________________________________________\n",
      "max_pooling2d_14 (MaxPooling (None, 56, 56, 192)       0         \n",
      "_________________________________________________________________\n",
      "conv2d_63 (Conv2D)           (None, 56, 56, 128)       24704     \n",
      "_________________________________________________________________\n",
      "conv2d_64 (Conv2D)           (None, 56, 56, 256)       295168    \n",
      "_________________________________________________________________\n",
      "conv2d_65 (Conv2D)           (None, 56, 56, 256)       65792     \n",
      "_________________________________________________________________\n",
      "conv2d_66 (Conv2D)           (None, 56, 56, 512)       1180160   \n",
      "_________________________________________________________________\n",
      "max_pooling2d_15 (MaxPooling (None, 28, 28, 512)       0         \n",
      "_________________________________________________________________\n",
      "conv2d_67 (Conv2D)           (None, 28, 28, 256)       131328    \n",
      "_________________________________________________________________\n",
      "conv2d_68 (Conv2D)           (None, 28, 28, 512)       1180160   \n",
      "_________________________________________________________________\n",
      "conv2d_69 (Conv2D)           (None, 28, 28, 256)       131328    \n",
      "_________________________________________________________________\n",
      "conv2d_70 (Conv2D)           (None, 28, 28, 512)       1180160   \n",
      "_________________________________________________________________\n",
      "conv2d_71 (Conv2D)           (None, 28, 28, 256)       131328    \n",
      "_________________________________________________________________\n",
      "conv2d_72 (Conv2D)           (None, 28, 28, 512)       1180160   \n",
      "_________________________________________________________________\n",
      "conv2d_73 (Conv2D)           (None, 28, 28, 256)       131328    \n",
      "_________________________________________________________________\n",
      "conv2d_74 (Conv2D)           (None, 28, 28, 512)       1180160   \n",
      "_________________________________________________________________\n",
      "conv2d_75 (Conv2D)           (None, 28, 28, 512)       262656    \n",
      "_________________________________________________________________\n",
      "conv2d_76 (Conv2D)           (None, 28, 28, 1024)      4719616   \n",
      "_________________________________________________________________\n",
      "max_pooling2d_16 (MaxPooling (None, 14, 14, 1024)      0         \n",
      "_________________________________________________________________\n",
      "conv2d_77 (Conv2D)           (None, 14, 14, 512)       524800    \n",
      "_________________________________________________________________\n",
      "conv2d_78 (Conv2D)           (None, 14, 14, 1024)      4719616   \n",
      "_________________________________________________________________\n",
      "conv2d_79 (Conv2D)           (None, 14, 14, 512)       524800    \n",
      "_________________________________________________________________\n",
      "conv2d_80 (Conv2D)           (None, 14, 14, 1024)      4719616   \n",
      "_________________________________________________________________\n",
      "global_average_pooling2d_4 ( (None, 1024)              0         \n",
      "_________________________________________________________________\n",
      "dense_7 (Dense)              (None, 512)               524800    \n",
      "_________________________________________________________________\n",
      "dense_8 (Dense)              (None, 512)               262656    \n",
      "_________________________________________________________________\n",
      "dense_9 (Dense)              (None, 1)                 513       \n",
      "=================================================================\n",
      "Total params: 23,183,425\n",
      "Trainable params: 23,183,425\n",
      "Non-trainable params: 0\n",
      "_________________________________________________________________\n"
     ]
    }
   ],
   "source": [
    "darknetv1.summary()"
   ]
  },
  {
   "cell_type": "markdown",
   "metadata": {},
   "source": [
    "model = multi_gpu_model(model, gpus=2) #parallelize model"
   ]
  },
  {
   "cell_type": "code",
   "execution_count": 13,
   "metadata": {},
   "outputs": [
    {
     "name": "stdout",
     "output_type": "stream",
     "text": [
      "WARNING:tensorflow:From c:\\users\\lorenzo\\appdata\\local\\programs\\python\\python36\\lib\\site-packages\\tensorflow\\python\\ops\\nn_impl.py:180: add_dispatch_support.<locals>.wrapper (from tensorflow.python.ops.array_ops) is deprecated and will be removed in a future version.\n",
      "Instructions for updating:\n",
      "Use tf.where in 2.0, which has the same broadcast rule as np.where\n"
     ]
    }
   ],
   "source": [
    "darknetv1.compile(optimizer=Adam(lr = 1e-4), loss=\"binary_crossentropy\", metrics=[\"accuracy\"])"
   ]
  },
  {
   "cell_type": "code",
   "execution_count": 14,
   "metadata": {},
   "outputs": [
    {
     "name": "stdout",
     "output_type": "stream",
     "text": [
      "WARNING:tensorflow:From c:\\users\\lorenzo\\appdata\\local\\programs\\python\\python36\\lib\\site-packages\\keras\\backend\\tensorflow_backend.py:422: The name tf.global_variables is deprecated. Please use tf.compat.v1.global_variables instead.\n",
      "\n",
      "58/57 [==============================] - 14s 233ms/step\n"
     ]
    },
    {
     "data": {
      "text/plain": [
       "[0.6979334950447083, 0.5]"
      ]
     },
     "execution_count": 14,
     "metadata": {},
     "output_type": "execute_result"
    }
   ],
   "source": [
    "darknetv1.evaluate_generator(valid_generator, steps=step_size_valid, verbose = 1)"
   ]
  },
  {
   "cell_type": "code",
   "execution_count": 15,
   "metadata": {
    "scrolled": true
   },
   "outputs": [
    {
     "name": "stdout",
     "output_type": "stream",
     "text": [
      "Epoch 1/20\n",
      "519/518 [==============================] - 226s 436ms/step - loss: 0.5852 - accuracy: 0.7056 - val_loss: 0.4520 - val_accuracy: 0.7893\n",
      "Epoch 2/20\n",
      "519/518 [==============================] - 221s 426ms/step - loss: 0.4279 - accuracy: 0.8100 - val_loss: 0.4876 - val_accuracy: 0.8300\n",
      "Epoch 3/20\n",
      "519/518 [==============================] - 222s 428ms/step - loss: 0.2898 - accuracy: 0.8786 - val_loss: 0.1084 - val_accuracy: 0.9124\n",
      "Epoch 4/20\n",
      "519/518 [==============================] - 221s 425ms/step - loss: 0.2161 - accuracy: 0.9144 - val_loss: 0.4449 - val_accuracy: 0.9100\n",
      "Epoch 5/20\n",
      "519/518 [==============================] - 221s 426ms/step - loss: 0.1832 - accuracy: 0.9299 - val_loss: 0.1771 - val_accuracy: 0.9317\n",
      "Epoch 6/20\n",
      "519/518 [==============================] - 221s 425ms/step - loss: 0.1604 - accuracy: 0.9382 - val_loss: 0.0811 - val_accuracy: 0.9531\n",
      "Epoch 7/20\n",
      "519/518 [==============================] - 220s 425ms/step - loss: 0.1423 - accuracy: 0.9461 - val_loss: 0.1263 - val_accuracy: 0.9580\n",
      "Epoch 8/20\n",
      "519/518 [==============================] - 221s 425ms/step - loss: 0.1285 - accuracy: 0.9513 - val_loss: 0.1548 - val_accuracy: 0.9574\n",
      "Epoch 9/20\n",
      "519/518 [==============================] - 221s 425ms/step - loss: 0.1195 - accuracy: 0.9559 - val_loss: 0.1786 - val_accuracy: 0.9517\n",
      "Epoch 10/20\n",
      "519/518 [==============================] - 221s 426ms/step - loss: 0.1100 - accuracy: 0.9603 - val_loss: 0.0860 - val_accuracy: 0.9591\n",
      "Epoch 11/20\n",
      "519/518 [==============================] - 221s 425ms/step - loss: 0.0939 - accuracy: 0.9668 - val_loss: 0.0695 - val_accuracy: 0.9539\n",
      "Epoch 12/20\n",
      "519/518 [==============================] - 221s 426ms/step - loss: 0.0876 - accuracy: 0.9681 - val_loss: 0.4464 - val_accuracy: 0.9211\n",
      "Epoch 13/20\n",
      "519/518 [==============================] - 222s 428ms/step - loss: 0.0849 - accuracy: 0.9684 - val_loss: 0.3531 - val_accuracy: 0.9398\n",
      "Epoch 14/20\n",
      "519/518 [==============================] - 221s 426ms/step - loss: 0.0649 - accuracy: 0.9777 - val_loss: 0.3480 - val_accuracy: 0.9412\n",
      "Epoch 15/20\n",
      "519/518 [==============================] - 221s 426ms/step - loss: 0.0653 - accuracy: 0.9775 - val_loss: 0.0750 - val_accuracy: 0.9360\n",
      "Epoch 16/20\n",
      "519/518 [==============================] - 221s 426ms/step - loss: 0.0577 - accuracy: 0.9791 - val_loss: 0.1611 - val_accuracy: 0.9463\n",
      "Epoch 17/20\n",
      "519/518 [==============================] - 221s 425ms/step - loss: 0.0464 - accuracy: 0.9827 - val_loss: 0.9074 - val_accuracy: 0.9620\n",
      "Epoch 18/20\n",
      "519/518 [==============================] - 221s 425ms/step - loss: 0.0529 - accuracy: 0.9804 - val_loss: 0.0609 - val_accuracy: 0.9615\n",
      "Epoch 19/20\n",
      "519/518 [==============================] - 221s 425ms/step - loss: 0.0425 - accuracy: 0.9843 - val_loss: 0.2086 - val_accuracy: 0.9550\n",
      "Epoch 20/20\n",
      "519/518 [==============================] - 222s 427ms/step - loss: 0.0503 - accuracy: 0.9827 - val_loss: 0.0704 - val_accuracy: 0.9596\n"
     ]
    }
   ],
   "source": [
    "#earlyStopping = EarlyStopping(monitor='val_loss', patience=5, verbose=1, mode='min')\n",
    "mcp_save = ModelCheckpoint('darknetv1.h5', save_best_only=True, monitor='val_loss', mode='min')\n",
    "reduce_lr_loss = ReduceLROnPlateau(monitor='val_loss', factor=0.1, patience=10, verbose=1, mode='min')\n",
    "\n",
    "history = darknetv1.fit_generator(generator=train_generator, epochs=20, steps_per_epoch=step_size_train, validation_data=valid_generator, validation_steps=step_size_valid, verbose=1, callbacks=[mcp_save, reduce_lr_loss])"
   ]
  },
  {
   "cell_type": "code",
   "execution_count": 19,
   "metadata": {},
   "outputs": [
    {
     "data": {
      "image/png": "[encoded data removed]",
      "text/plain": [
       "<Figure size 576x576 with 2 Axes>"
      ]
     },
     "metadata": {
      "needs_background": "light"
     },
     "output_type": "display_data"
    }
   ],
   "source": [
    "acc = history.history['accuracy']\n",
    "val_acc = history.history['val_accuracy']\n",
    "\n",
    "loss = history.history['loss']\n",
    "val_loss = history.history['val_loss']\n",
    "\n",
    "plt.figure(figsize=(8, 8))\n",
    "plt.subplot(2, 1, 1)\n",
    "plt.plot(acc, label='Training accuracy')\n",
    "plt.plot(val_acc, label='Validation accuracy')\n",
    "plt.legend(loc='lower right')\n",
    "plt.ylabel('accuracy')\n",
    "plt.ylim([min(plt.ylim()),1])\n",
    "plt.title('Training and Validation accuracy')\n",
    "\n",
    "plt.subplot(2, 1, 2)\n",
    "plt.plot(loss, label='Training Loss')\n",
    "plt.plot(val_loss, label='Validation Loss')\n",
    "plt.legend(loc='upper right')\n",
    "plt.ylabel('Cross Entropy')\n",
    "plt.ylim([0,1])\n",
    "plt.title('Training and Validation Loss')\n",
    "plt.xlabel('epoch')\n",
    "plt.show()"
   ]
  },
  {
   "cell_type": "code",
   "execution_count": 94,
   "metadata": {},
   "outputs": [
    {
     "name": "stdout",
     "output_type": "stream",
     "text": [
      "Saved model to disk\n"
     ]
    }
   ],
   "source": [
    "model_json = darknetv1.to_json()\n",
    "with open(\"darknetv1.json\", \"w\") as json_file:\n",
    "    json_file.write(model_json)\n",
    "# serialize weights to HDF5\n",
    "#model.save_weights(\"resnet50.h5\")\n",
    "print(\"Saved model to disk\")"
   ]
  },
  {
   "cell_type": "markdown",
   "metadata": {},
   "source": [
    "# Loading model"
   ]
  },
  {
   "cell_type": "code",
   "execution_count": 102,
   "metadata": {},
   "outputs": [
    {
     "name": "stdout",
     "output_type": "stream",
     "text": [
      "Model: \"sequential_6\"\n",
      "_________________________________________________________________\n",
      "Layer (type)                 Output Shape              Param #   \n",
      "=================================================================\n",
      "conv2d_101 (Conv2D)          (None, 224, 224, 64)      1792      \n",
      "_________________________________________________________________\n",
      "max_pooling2d_21 (MaxPooling (None, 112, 112, 64)      0         \n",
      "_________________________________________________________________\n",
      "conv2d_102 (Conv2D)          (None, 112, 112, 192)     110784    \n",
      "_________________________________________________________________\n",
      "max_pooling2d_22 (MaxPooling (None, 56, 56, 192)       0         \n",
      "_________________________________________________________________\n",
      "conv2d_103 (Conv2D)          (None, 56, 56, 128)       24704     \n",
      "_________________________________________________________________\n",
      "conv2d_104 (Conv2D)          (None, 56, 56, 256)       295168    \n",
      "_________________________________________________________________\n",
      "conv2d_105 (Conv2D)          (None, 56, 56, 256)       65792     \n",
      "_________________________________________________________________\n",
      "conv2d_106 (Conv2D)          (None, 56, 56, 512)       1180160   \n",
      "_________________________________________________________________\n",
      "max_pooling2d_23 (MaxPooling (None, 28, 28, 512)       0         \n",
      "_________________________________________________________________\n",
      "conv2d_107 (Conv2D)          (None, 28, 28, 256)       131328    \n",
      "_________________________________________________________________\n",
      "conv2d_108 (Conv2D)          (None, 28, 28, 512)       1180160   \n",
      "_________________________________________________________________\n",
      "conv2d_109 (Conv2D)          (None, 28, 28, 256)       131328    \n",
      "_________________________________________________________________\n",
      "conv2d_110 (Conv2D)          (None, 28, 28, 512)       1180160   \n",
      "_________________________________________________________________\n",
      "conv2d_111 (Conv2D)          (None, 28, 28, 256)       131328    \n",
      "_________________________________________________________________\n",
      "conv2d_112 (Conv2D)          (None, 28, 28, 512)       1180160   \n",
      "_________________________________________________________________\n",
      "conv2d_113 (Conv2D)          (None, 28, 28, 256)       131328    \n",
      "_________________________________________________________________\n",
      "conv2d_114 (Conv2D)          (None, 28, 28, 512)       1180160   \n",
      "_________________________________________________________________\n",
      "conv2d_115 (Conv2D)          (None, 28, 28, 512)       262656    \n",
      "_________________________________________________________________\n",
      "conv2d_116 (Conv2D)          (None, 28, 28, 1024)      4719616   \n",
      "_________________________________________________________________\n",
      "max_pooling2d_24 (MaxPooling (None, 14, 14, 1024)      0         \n",
      "_________________________________________________________________\n",
      "conv2d_117 (Conv2D)          (None, 14, 14, 512)       524800    \n",
      "_________________________________________________________________\n",
      "conv2d_118 (Conv2D)          (None, 14, 14, 1024)      4719616   \n",
      "_________________________________________________________________\n",
      "conv2d_119 (Conv2D)          (None, 14, 14, 512)       524800    \n",
      "_________________________________________________________________\n",
      "conv2d_120 (Conv2D)          (None, 14, 14, 1024)      4719616   \n",
      "_________________________________________________________________\n",
      "global_average_pooling2d_6 ( (None, 1024)              0         \n",
      "_________________________________________________________________\n",
      "dense_13 (Dense)             (None, 512)               524800    \n",
      "_________________________________________________________________\n",
      "dense_14 (Dense)             (None, 512)               262656    \n",
      "_________________________________________________________________\n",
      "dense_15 (Dense)             (None, 1)                 513       \n",
      "=================================================================\n",
      "Total params: 23,183,425\n",
      "Trainable params: 23,183,425\n",
      "Non-trainable params: 0\n",
      "_________________________________________________________________\n"
     ]
    }
   ],
   "source": [
    "darknetv2 = Sequential()\n",
    "darknetv2.add(InputLayer(input_shape=(IMG_SIZE,IMG_SIZE,3)))\n",
    "#darknetv2.add(InputLayer(batch_input_shape=(BATCH_SIZE,IMG_SIZE,IMG_SIZE,3)))\n",
    "darknetv2.add(Conv2D(64,3, strides=(1,1), padding = \"same\"))\n",
    "darknetv2.add(MaxPooling2D(pool_size=(2, 2)))\n",
    "darknetv2.add(Conv2D(192,3, strides=(1,1), padding = \"same\"))\n",
    "darknetv2.add(MaxPooling2D(pool_size=(2, 2)))\n",
    "\n",
    "darknetv2.add(Conv2D(128,1, strides=(1,1), padding = \"same\"))\n",
    "darknetv2.add(Conv2D(256,3, strides=(1,1), padding = \"same\"))\n",
    "darknetv2.add(Conv2D(256,1, strides=(1,1), padding = \"same\"))\n",
    "darknetv2.add(Conv2D(512,3, strides=(1,1), padding = \"same\"))\n",
    "darknetv2.add(MaxPooling2D(pool_size=(2, 2)))\n",
    "\n",
    "darknetv2.add(Conv2D(256,1, strides=(1,1), padding = \"same\"))\n",
    "darknetv2.add(Conv2D(512,3, strides=(1,1), padding = \"same\"))\n",
    "darknetv2.add(Conv2D(256,1, strides=(1,1), padding = \"same\"))\n",
    "darknetv2.add(Conv2D(512,3, strides=(1,1), padding = \"same\"))\n",
    "darknetv2.add(Conv2D(256,1, strides=(1,1), padding = \"same\"))\n",
    "darknetv2.add(Conv2D(512,3, strides=(1,1), padding = \"same\"))\n",
    "darknetv2.add(Conv2D(256,1, strides=(1,1), padding = \"same\"))\n",
    "darknetv2.add(Conv2D(512,3, strides=(1,1), padding = \"same\"))\n",
    "darknetv2.add(Conv2D(512,1, strides=(1,1), padding = \"same\"))\n",
    "darknetv2.add(Conv2D(1024,3, strides=(1,1), padding = \"same\"))\n",
    "darknetv2.add(MaxPooling2D(pool_size=(2, 2)))\n",
    "\n",
    "darknetv2.add(Conv2D(512,1, strides=(1,1), padding = \"same\"))\n",
    "darknetv2.add(Conv2D(1024,3, strides=(1,1), padding = \"same\"))\n",
    "darknetv2.add(Conv2D(512,1, strides=(1,1), padding = \"same\"))\n",
    "darknetv2.add(Conv2D(1024,3, strides=(1,1), padding = \"same\"))\n",
    "darknetv2.add(GlobalAveragePooling2D())\n",
    "\n",
    "# Da aggiungere dopo\n",
    "#darknetv1.add(Conv2D(1024,3, strides=(1,1), padding = \"same\"))\n",
    "#darknetv1.add(Conv2D(1024,3, strides=(2,2), padding = \"same\"))\n",
    "#darknetv1.add(Conv2D(1024,3, strides=(1,1), padding = \"same\"))\n",
    "#darknetv1.add(Conv2D(1024,3, strides=(1,1), padding = \"same\"))\n",
    "\n",
    "darknetv2.add(Dense(512, activation = \"relu\"))\n",
    "darknetv2.add(Dense(512, activation = \"relu\"))\n",
    "darknetv2.add(Dense(1, activation = \"sigmoid\"))\n",
    "\n",
    "darknetv2.summary()"
   ]
  },
  {
   "cell_type": "code",
   "execution_count": 106,
   "metadata": {},
   "outputs": [],
   "source": [
    "darknetv2.load_weights(\"darknetv1.h5\") \n",
    "darknetv2.compile(optimizer=Adam(lr = 1e-4), loss=\"binary_crossentropy\", metrics=[\"accuracy\"])"
   ]
  },
  {
   "cell_type": "code",
   "execution_count": 109,
   "metadata": {},
   "outputs": [
    {
     "name": "stdout",
     "output_type": "stream",
     "text": [
      "Found 4099 validated image filenames.\n",
      "65/64 [==============================] - 10s 147ms/step\n"
     ]
    }
   ],
   "source": [
    "test_datagen = ImageDataGenerator(rescale=1./255)\n",
    "\n",
    "test_generator = test_datagen.flow_from_dataframe(\n",
    "            dataframe=test_df,\n",
    "            directory=\"./\",\n",
    "            x_col=\"image_path\",\n",
    "            y_col=\"face\",\n",
    "            class_mode=\"raw\",\n",
    "            shuffle=False,\n",
    "            target_size=(IMG_SIZE, IMG_SIZE),\n",
    "            batch_size=BATCH_SIZE)\n",
    "\n",
    "STEP_SIZE_TEST = test_generator.n / test_generator.batch_size \n",
    "\n",
    "\n",
    "#CHANGE PARALLEL MODEL\n",
    "pred=darknetv2.predict_generator(test_generator,  steps=STEP_SIZE_TEST,  verbose=1)\n"
   ]
  },
  {
   "cell_type": "code",
   "execution_count": 110,
   "metadata": {},
   "outputs": [],
   "source": [
    "img = Image.open(test_generator.filenames[1])\n",
    "img1 = ImageDraw.Draw(img)\n",
    "font = ImageFont.truetype(\"arial.ttf\", 50)\n",
    "# get a drawing context\n",
    "# draw text, half opacity\n",
    "img1.text((0,0), str(pred[1]), font = font,fill=(0,0,0,0))\n",
    "img.save(\"./dataset/FACE_CLASSIFIER/testlabel3\" + \".jpg\")\n",
    "img.show()"
   ]
  },
  {
   "cell_type": "code",
   "execution_count": 111,
   "metadata": {},
   "outputs": [
    {
     "name": "stdout",
     "output_type": "stream",
     "text": [
      "1000\n",
      "2000\n",
      "3000\n",
      "4000\n"
     ]
    }
   ],
   "source": [
    "count = 0\n",
    "for el in zip(pred,test_generator.labels,test_generator.filenames):\n",
    "    count = count +1\n",
    "    print(count) if count % 1000 == 0 else 0\n",
    "    if el[1] == 1:\n",
    "        #print(el)\n",
    "        img = Image.open(el[2])\n",
    "        img1 = ImageDraw.Draw(img)\n",
    "        font = ImageFont.truetype(\"arial.ttf\", 50)\n",
    "        # get a drawing context\n",
    "        # draw text, half opacity\n",
    "        img1.text((0,0), str(el[0]), font = font,fill=(0,0,0,0))\n",
    "        #img.show() \n",
    "        img.save(\"./dataset/FACE_CLASSIFIER/results/output\"+ str(count) + \".jpg\")"
   ]
  },
  {
   "cell_type": "code",
   "execution_count": null,
   "metadata": {},
   "outputs": [],
   "source": []
  }
 ],
 "metadata": {
  "kernelspec": {
   "display_name": "Python 3",
   "language": "python",
   "name": "python3"
  },
  "language_info": {
   "codemirror_mode": {
    "name": "ipython",
    "version": 3
   },
   "file_extension": ".py",
   "mimetype": "text/x-python",
   "name": "python",
   "nbconvert_exporter": "python",
   "pygments_lexer": "ipython3",
   "version": "3.6.8"
  },
  "pycharm": {
   "stem_cell": {
    "cell_type": "raw",
    "metadata": {
     "collapsed": false
    },
    "source": []
   }
  }
 },
 "nbformat": 4,
 "nbformat_minor": 1
}
