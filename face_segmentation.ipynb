{
 "cells": [
  {
   "cell_type": "code",
   "execution_count": 1,
   "metadata": {
    "pycharm": {
     "is_executing": false
    }
   },
   "outputs": [],
   "source": [
    "#!/usr/bin/python\n",
    "# -*- coding: utf-8 -*-\n",
    "\n",
    "import warnings\n",
    "warnings.filterwarnings('ignore')"
   ]
  },
  {
   "cell_type": "code",
   "execution_count": 2,
   "metadata": {
    "pycharm": {
     "is_executing": false
    },
    "scrolled": false
   },
   "outputs": [
    {
     "name": "stderr",
     "output_type": "stream",
     "text": [
      "Using TensorFlow backend.\n"
     ]
    }
   ],
   "source": [
    "from keras.models import Sequential\n",
    "from keras.layers import Dense, Activation, Conv2D, MaxPooling2D, Dropout\n",
    "from keras.callbacks import ModelCheckpoint, EarlyStopping, ReduceLROnPlateau\n",
    "from keras_vggface.vggface import VGGFace\n",
    "from keras.applications.vgg16 import preprocess_input\n",
    "from keras.optimizers import RMSprop, Adam\n",
    "import keras_metrics\n",
    "import pandas\n",
    "import ast\n"
   ]
  },
  {
   "cell_type": "code",
   "execution_count": 3,
   "metadata": {},
   "outputs": [],
   "source": [
    "%matplotlib inline\n",
    "import matplotlib.pyplot as plt\n",
    "import matplotlib.image as mpimg"
   ]
  },
  {
   "cell_type": "code",
   "execution_count": 4,
   "metadata": {},
   "outputs": [],
   "source": [
    "train_set = \".\\\\dataset\\\\train\"\n",
    "validation_set = \".\\\\dataset\\\\val\"\n",
    "test_set = \".\\\\dataset\\\\test\""
   ]
  },
  {
   "cell_type": "code",
   "execution_count": 5,
   "metadata": {},
   "outputs": [],
   "source": [
    "from keras.preprocessing.image import load_img, ImageDataGenerator"
   ]
  },
  {
   "cell_type": "code",
   "execution_count": 6,
   "metadata": {},
   "outputs": [],
   "source": [
    "train_df = pandas.read_csv(\".\\\\dataset\\\\train\\\\output_final.csv\")\n",
    "valid_df = pandas.read_csv(\".\\\\dataset\\\\val\\\\output_final.csv\")\n",
    "test_df = pandas.read_csv(\".\\\\dataset\\\\test\\\\output_final.csv\")"
   ]
  },
  {
   "cell_type": "code",
   "execution_count": 7,
   "metadata": {},
   "outputs": [
    {
     "name": "stdout",
     "output_type": "stream",
     "text": [
      "Found 10806 validated image filenames.\n",
      "Found 2403 validated image filenames.\n"
     ]
    }
   ],
   "source": [
    "train_datagen = ImageDataGenerator(\n",
    "    brightness_range=[0.4,1.0], \n",
    "    featurewise_center = True,\n",
    "    featurewise_std_normalization = True, \n",
    "    preprocessing_function=preprocess_input)\n",
    "\n",
    "train_generator = train_datagen.flow_from_dataframe(\n",
    "        dataframe=train_df,\n",
    "        directory='.\\\\dataset\\\\train',\n",
    "        x_col=\"filename\",\n",
    "        y_col=[\"x_start\",\"y_start\",\"width\",\"height\"],\n",
    "        class_mode=\"raw\",\n",
    "        shuffle=True,\n",
    "        target_size=(300, 300),\n",
    "        batch_size=32)\n",
    "\n",
    "valid_generator = train_datagen.flow_from_dataframe(\n",
    "        dataframe=valid_df,\n",
    "        directory='.\\\\dataset\\\\val',\n",
    "        x_col=\"filename\",\n",
    "        y_col=[\"x_start\",\"y_start\",\"width\",\"height\"],\n",
    "        class_mode=\"raw\",\n",
    "        shuffle=True,\n",
    "        target_size=(300, 300),\n",
    "        batch_size=32)"
   ]
  },
  {
   "cell_type": "code",
   "execution_count": 8,
   "metadata": {},
   "outputs": [],
   "source": [
    "step_size_train = train_generator.n/train_generator.batch_size\n",
    "step_size_valid = valid_generator.n/valid_generator.batch_size"
   ]
  },
  {
   "cell_type": "code",
   "execution_count": 9,
   "metadata": {
    "scrolled": false
   },
   "outputs": [
    {
     "name": "stdout",
     "output_type": "stream",
     "text": [
      "WARNING:tensorflow:From c:\\users\\lorenzo\\desktop\\università\\machine_learning_project\\venv\\lib\\site-packages\\keras\\backend\\tensorflow_backend.py:4070: The name tf.nn.max_pool is deprecated. Please use tf.nn.max_pool2d instead.\n",
      "\n"
     ]
    }
   ],
   "source": [
    "vgg_model = VGGFace(model='vgg16', include_top=False, weights='vggface', pooling='avg', input_shape=(300, 300, 3))"
   ]
  },
  {
   "cell_type": "code",
   "execution_count": 10,
   "metadata": {},
   "outputs": [],
   "source": [
    "vgg_model.trainable = True"
   ]
  },
  {
   "cell_type": "code",
   "execution_count": 11,
   "metadata": {
    "scrolled": true
   },
   "outputs": [
    {
     "name": "stdout",
     "output_type": "stream",
     "text": [
      "Model: \"vggface_vgg16\"\n",
      "_________________________________________________________________\n",
      "Layer (type)                 Output Shape              Param #   \n",
      "=================================================================\n",
      "input_1 (InputLayer)         (None, 300, 300, 3)       0         \n",
      "_________________________________________________________________\n",
      "conv1_1 (Conv2D)             (None, 300, 300, 64)      1792      \n",
      "_________________________________________________________________\n",
      "conv1_2 (Conv2D)             (None, 300, 300, 64)      36928     \n",
      "_________________________________________________________________\n",
      "pool1 (MaxPooling2D)         (None, 150, 150, 64)      0         \n",
      "_________________________________________________________________\n",
      "conv2_1 (Conv2D)             (None, 150, 150, 128)     73856     \n",
      "_________________________________________________________________\n",
      "conv2_2 (Conv2D)             (None, 150, 150, 128)     147584    \n",
      "_________________________________________________________________\n",
      "pool2 (MaxPooling2D)         (None, 75, 75, 128)       0         \n",
      "_________________________________________________________________\n",
      "conv3_1 (Conv2D)             (None, 75, 75, 256)       295168    \n",
      "_________________________________________________________________\n",
      "conv3_2 (Conv2D)             (None, 75, 75, 256)       590080    \n",
      "_________________________________________________________________\n",
      "conv3_3 (Conv2D)             (None, 75, 75, 256)       590080    \n",
      "_________________________________________________________________\n",
      "pool3 (MaxPooling2D)         (None, 37, 37, 256)       0         \n",
      "_________________________________________________________________\n",
      "conv4_1 (Conv2D)             (None, 37, 37, 512)       1180160   \n",
      "_________________________________________________________________\n",
      "conv4_2 (Conv2D)             (None, 37, 37, 512)       2359808   \n",
      "_________________________________________________________________\n",
      "conv4_3 (Conv2D)             (None, 37, 37, 512)       2359808   \n",
      "_________________________________________________________________\n",
      "pool4 (MaxPooling2D)         (None, 18, 18, 512)       0         \n",
      "_________________________________________________________________\n",
      "conv5_1 (Conv2D)             (None, 18, 18, 512)       2359808   \n",
      "_________________________________________________________________\n",
      "conv5_2 (Conv2D)             (None, 18, 18, 512)       2359808   \n",
      "_________________________________________________________________\n",
      "conv5_3 (Conv2D)             (None, 18, 18, 512)       2359808   \n",
      "_________________________________________________________________\n",
      "pool5 (MaxPooling2D)         (None, 9, 9, 512)         0         \n",
      "_________________________________________________________________\n",
      "global_average_pooling2d_1 ( (None, 512)               0         \n",
      "=================================================================\n",
      "Total params: 14,714,688\n",
      "Trainable params: 14,714,688\n",
      "Non-trainable params: 0\n",
      "_________________________________________________________________\n"
     ]
    }
   ],
   "source": [
    "vgg_model.summary()"
   ]
  },
  {
   "cell_type": "code",
   "execution_count": 12,
   "metadata": {},
   "outputs": [
    {
     "name": "stdout",
     "output_type": "stream",
     "text": [
      "Vgg layers n°: 20\n",
      "Conv layers in the last 5 layers:  3\n"
     ]
    }
   ],
   "source": [
    "count_conv_layer = 0\n",
    "print(\"Vgg layers n°:\",len(vgg_model.layers))\n",
    "window_layers_size = 5\n",
    "count_layer = 0\n",
    "for layer in vgg_model.layers: #train only  convolutional layers in the last 50 layers \n",
    "    count_layer = count_layer +1\n",
    "    if (count_layer >= (len(vgg_model.layers)-window_layers_size)) and (\"conv\" in layer.name):\n",
    "        count_conv_layer = count_conv_layer + 1 \n",
    "        layer.trainable = True\n",
    "    else: \n",
    "        layer.trainable = False\n",
    "print(\"Conv layers in the last\",window_layers_size,\"layers: \", count_conv_layer)"
   ]
  },
  {
   "cell_type": "code",
   "execution_count": 13,
   "metadata": {},
   "outputs": [
    {
     "name": "stdout",
     "output_type": "stream",
     "text": [
      "Model: \"vggface_vgg16\"\n",
      "_________________________________________________________________\n",
      "Layer (type)                 Output Shape              Param #   \n",
      "=================================================================\n",
      "input_1 (InputLayer)         (None, 300, 300, 3)       0         \n",
      "_________________________________________________________________\n",
      "conv1_1 (Conv2D)             (None, 300, 300, 64)      1792      \n",
      "_________________________________________________________________\n",
      "conv1_2 (Conv2D)             (None, 300, 300, 64)      36928     \n",
      "_________________________________________________________________\n",
      "pool1 (MaxPooling2D)         (None, 150, 150, 64)      0         \n",
      "_________________________________________________________________\n",
      "conv2_1 (Conv2D)             (None, 150, 150, 128)     73856     \n",
      "_________________________________________________________________\n",
      "conv2_2 (Conv2D)             (None, 150, 150, 128)     147584    \n",
      "_________________________________________________________________\n",
      "pool2 (MaxPooling2D)         (None, 75, 75, 128)       0         \n",
      "_________________________________________________________________\n",
      "conv3_1 (Conv2D)             (None, 75, 75, 256)       295168    \n",
      "_________________________________________________________________\n",
      "conv3_2 (Conv2D)             (None, 75, 75, 256)       590080    \n",
      "_________________________________________________________________\n",
      "conv3_3 (Conv2D)             (None, 75, 75, 256)       590080    \n",
      "_________________________________________________________________\n",
      "pool3 (MaxPooling2D)         (None, 37, 37, 256)       0         \n",
      "_________________________________________________________________\n",
      "conv4_1 (Conv2D)             (None, 37, 37, 512)       1180160   \n",
      "_________________________________________________________________\n",
      "conv4_2 (Conv2D)             (None, 37, 37, 512)       2359808   \n",
      "_________________________________________________________________\n",
      "conv4_3 (Conv2D)             (None, 37, 37, 512)       2359808   \n",
      "_________________________________________________________________\n",
      "pool4 (MaxPooling2D)         (None, 18, 18, 512)       0         \n",
      "_________________________________________________________________\n",
      "conv5_1 (Conv2D)             (None, 18, 18, 512)       2359808   \n",
      "_________________________________________________________________\n",
      "conv5_2 (Conv2D)             (None, 18, 18, 512)       2359808   \n",
      "_________________________________________________________________\n",
      "conv5_3 (Conv2D)             (None, 18, 18, 512)       2359808   \n",
      "_________________________________________________________________\n",
      "pool5 (MaxPooling2D)         (None, 9, 9, 512)         0         \n",
      "_________________________________________________________________\n",
      "global_average_pooling2d_1 ( (None, 512)               0         \n",
      "=================================================================\n",
      "Total params: 14,714,688\n",
      "Trainable params: 7,079,424\n",
      "Non-trainable params: 7,635,264\n",
      "_________________________________________________________________\n"
     ]
    }
   ],
   "source": [
    "vgg_model.summary()"
   ]
  },
  {
   "cell_type": "code",
   "execution_count": 14,
   "metadata": {},
   "outputs": [],
   "source": [
    "# define last layer output size\n",
    "input_model_shape = vgg_model.input_shape[1]\n",
    "output_global_pooling_size = vgg_model.output_shape[1]"
   ]
  },
  {
   "cell_type": "code",
   "execution_count": 15,
   "metadata": {},
   "outputs": [],
   "source": [
    "# Rule 1 to choose neurons in hidden layers\n",
    "rule_1_neurons_number = int((output_global_pooling_size + 4)/2)\n",
    "# Rule 2 to choose neurons in hidden layers\n",
    "rule_2_neurons_number = int(output_global_pooling_size/2) + 4\n",
    "# Rule 2 to choose neurons in hidden layers\n",
    "alpha = 2\n",
    "rule_3_neurons_number = int(train_generator.n/(alpha*(4+output_global_pooling_size)))\n",
    "number_of_hidden_layer = 3\n",
    "rule_4_neurons_number = [int(round(x/(i+1),0)) for (x,i) in zip([output_global_pooling_size]*number_of_hidden_layer,\n",
    "                                           range(number_of_hidden_layer))]"
   ]
  },
  {
   "cell_type": "code",
   "execution_count": 16,
   "metadata": {},
   "outputs": [],
   "source": [
    "model = Sequential()\n",
    "model.add(vgg_model)\n",
    "\n",
    "model.add(Dense(4096,activation='relu'))\n",
    "model.add(Dropout(0.5))\n",
    "model.add(Dense(4096,activation='relu'))\n",
    "model.add(Dropout(0.5))\n",
    "#model.add(Dense(rule_4_neurons_number[2],activation='relu'))\n",
    "#model.add(Dropout(0.5))\n",
    "\n",
    "model.add(Dense(4,activation='relu'))"
   ]
  },
  {
   "cell_type": "code",
   "execution_count": 17,
   "metadata": {},
   "outputs": [
    {
     "name": "stdout",
     "output_type": "stream",
     "text": [
      "tracking <tf.Variable 'Variable:0' shape=() dtype=int32> tp\n",
      "tracking <tf.Variable 'Variable_1:0' shape=() dtype=int32> fp\n",
      "tracking <tf.Variable 'Variable_2:0' shape=() dtype=int32> tp\n",
      "tracking <tf.Variable 'Variable_3:0' shape=() dtype=int32> fn\n"
     ]
    }
   ],
   "source": [
    "model.compile(optimizer=Adam(), loss='mse', metrics=[keras_metrics.precision(), keras_metrics.recall()])"
   ]
  },
  {
   "cell_type": "code",
   "execution_count": 18,
   "metadata": {
    "scrolled": true
   },
   "outputs": [
    {
     "name": "stdout",
     "output_type": "stream",
     "text": [
      "Model: \"sequential_1\"\n",
      "_________________________________________________________________\n",
      "Layer (type)                 Output Shape              Param #   \n",
      "=================================================================\n",
      "vggface_vgg16 (Model)        (None, 512)               14714688  \n",
      "_________________________________________________________________\n",
      "dense_1 (Dense)              (None, 4096)              2101248   \n",
      "_________________________________________________________________\n",
      "dropout_1 (Dropout)          (None, 4096)              0         \n",
      "_________________________________________________________________\n",
      "dense_2 (Dense)              (None, 4096)              16781312  \n",
      "_________________________________________________________________\n",
      "dropout_2 (Dropout)          (None, 4096)              0         \n",
      "_________________________________________________________________\n",
      "dense_3 (Dense)              (None, 4)                 16388     \n",
      "=================================================================\n",
      "Total params: 33,613,636\n",
      "Trainable params: 25,978,372\n",
      "Non-trainable params: 7,635,264\n",
      "_________________________________________________________________\n"
     ]
    }
   ],
   "source": [
    "model.summary()"
   ]
  },
  {
   "cell_type": "code",
   "execution_count": 19,
   "metadata": {
    "scrolled": true
   },
   "outputs": [
    {
     "name": "stdout",
     "output_type": "stream",
     "text": [
      "WARNING:tensorflow:From c:\\users\\lorenzo\\desktop\\università\\machine_learning_project\\venv\\lib\\site-packages\\keras\\backend\\tensorflow_backend.py:422: The name tf.global_variables is deprecated. Please use tf.compat.v1.global_variables instead.\n",
      "\n"
     ]
    },
    {
     "data": {
      "text/plain": [
       "[12507.69140625, 86.48326110839844, 0.02022179402410984]"
      ]
     },
     "execution_count": 19,
     "metadata": {},
     "output_type": "execute_result"
    }
   ],
   "source": [
    "model.evaluate_generator(valid_generator, steps=step_size_valid)"
   ]
  },
  {
   "cell_type": "code",
   "execution_count": 20,
   "metadata": {
    "scrolled": true
   },
   "outputs": [
    {
     "name": "stdout",
     "output_type": "stream",
     "text": [
      "Epoch 1/50\n",
      " - 70s - loss: 8358.0723 - precision: 103.9880 - recall: 66.9390 - val_loss: 2446.5332 - val_precision: 103.4105 - val_recall: 102.0000\n",
      "Epoch 2/50\n",
      " - 69s - loss: 2474.4451 - precision: 103.3142 - recall: 102.5699 - val_loss: 2709.9990 - val_precision: 101.6081 - val_recall: 103.0000\n",
      "Epoch 3/50\n",
      " - 69s - loss: 2475.1750 - precision: 103.6253 - recall: 102.9679 - val_loss: 2109.1765 - val_precision: 102.8983 - val_recall: 104.0000\n",
      "Epoch 4/50\n",
      " - 69s - loss: 2472.7396 - precision: 103.7877 - recall: 103.4120 - val_loss: 2912.4299 - val_precision: 104.3731 - val_recall: 104.0000\n",
      "Epoch 5/50\n",
      " - 69s - loss: 2468.6393 - precision: 103.1375 - recall: 102.7687 - val_loss: 3056.5481 - val_precision: 102.4070 - val_recall: 106.0000\n",
      "Epoch 6/50\n",
      " - 69s - loss: 2467.3088 - precision: 103.4458 - recall: 102.8497 - val_loss: 655.6948 - val_precision: 104.1997 - val_recall: 103.0000\n",
      "Epoch 7/50\n",
      " - 69s - loss: 2463.3962 - precision: 103.7533 - recall: 102.8782 - val_loss: 1575.3561 - val_precision: 102.4977 - val_recall: 102.0000\n",
      "Epoch 8/50\n",
      " - 69s - loss: 2466.3709 - precision: 104.1354 - recall: 103.3858 - val_loss: 1779.8563 - val_precision: 103.5565 - val_recall: 101.0000\n",
      "Epoch 9/50\n",
      " - 69s - loss: 2460.5330 - precision: 103.8501 - recall: 103.5035 - val_loss: 4536.0249 - val_precision: 101.6414 - val_recall: 101.0000\n",
      "Epoch 10/50\n",
      " - 69s - loss: 2463.6665 - precision: 103.5807 - recall: 103.0847 - val_loss: 1161.2275 - val_precision: 103.3047 - val_recall: 106.0000\n",
      "\n",
      "Epoch 00010: ReduceLROnPlateau reducing learning rate to 0.00010000000474974513.\n",
      "Epoch 11/50\n",
      " - 69s - loss: 2456.9218 - precision: 104.3799 - recall: 104.5563 - val_loss: 3198.3572 - val_precision: 102.3242 - val_recall: 103.0000\n",
      "Epoch 12/50\n",
      " - 69s - loss: 2457.5641 - precision: 104.0402 - recall: 103.4044 - val_loss: 5775.2827 - val_precision: 104.6441 - val_recall: 102.0000\n",
      "Epoch 13/50\n",
      " - 69s - loss: 2452.5660 - precision: 103.8177 - recall: 102.9408 - val_loss: 3561.6934 - val_precision: 102.4052 - val_recall: 104.0000\n",
      "Epoch 14/50\n",
      " - 69s - loss: 2454.4356 - precision: 104.2355 - recall: 103.7885 - val_loss: 1915.1669 - val_precision: 103.4591 - val_recall: 102.0000\n",
      "\n",
      "Epoch 00014: ReduceLROnPlateau reducing learning rate to 1.0000000474974514e-05.\n",
      "Epoch 15/50\n",
      " - 69s - loss: 2452.8607 - precision: 104.6246 - recall: 103.0282 - val_loss: 2050.7917 - val_precision: 103.1694 - val_recall: 103.0000\n",
      "Epoch 16/50\n",
      " - 69s - loss: 2448.3115 - precision: 104.2111 - recall: 103.2493 - val_loss: 3362.0305 - val_precision: 102.9465 - val_recall: 103.0000\n",
      "Epoch 17/50\n",
      " - 69s - loss: 2448.8764 - precision: 103.4707 - recall: 103.4263 - val_loss: 2665.4949 - val_precision: 103.4088 - val_recall: 103.0000\n",
      "Epoch 18/50\n",
      " - 69s - loss: 2453.1186 - precision: 104.4471 - recall: 103.6100 - val_loss: 2013.0128 - val_precision: 102.8982 - val_recall: 103.0000\n",
      "\n",
      "Epoch 00018: ReduceLROnPlateau reducing learning rate to 1.0000000656873453e-06.\n",
      "Epoch 19/50\n",
      " - 63s - loss: 2453.2881 - precision: 104.3276 - recall: 103.1416 - val_loss: 2249.5127 - val_precision: 103.4127 - val_recall: 103.0000\n",
      "Epoch 20/50\n",
      " - 69s - loss: 2454.8910 - precision: 103.5107 - recall: 102.9796 - val_loss: 1169.7102 - val_precision: 103.0956 - val_recall: 103.0000\n",
      "Epoch 21/50\n",
      " - 68s - loss: 2453.9249 - precision: 104.0843 - recall: 103.1168 - val_loss: 3290.5808 - val_precision: 104.2056 - val_recall: 103.0000\n",
      "Epoch 00021: early stopping\n"
     ]
    }
   ],
   "source": [
    "earlyStopping = EarlyStopping(monitor='val_loss', patience=15, verbose=1, mode='min')\n",
    "mcp_save = ModelCheckpoint('vggface.h5', save_best_only=True, monitor='val_loss', mode='min')\n",
    "reduce_lr_loss = ReduceLROnPlateau(monitor='val_loss', factor=0.1, patience=4, verbose=1, mode='min')\n",
    "\n",
    "history = model.fit_generator(generator=train_generator, epochs=50, steps_per_epoch=step_size_train, validation_data=valid_generator, validation_steps=step_size_valid, verbose=2, callbacks=[mcp_save, earlyStopping, reduce_lr_loss])"
   ]
  },
  {
   "cell_type": "code",
   "execution_count": 21,
   "metadata": {},
   "outputs": [
    {
     "name": "stdout",
     "output_type": "stream",
     "text": [
      "{'val_loss': [2446.533203125, 2709.9990234375, 2109.176513671875, 2912.429931640625, 3056.548095703125, 655.69482421875, 1575.3560791015625, 1779.8563232421875, 4536.02490234375, 1161.2275390625, 3198.357177734375, 5775.28271484375, 3561.693359375, 1915.1668701171875, 2050.791748046875, 3362.030517578125, 2665.494873046875, 2013.0128173828125, 2249.5126953125, 1169.710205078125, 3290.580810546875], 'val_precision': [103.41046142578125, 101.60807037353516, 102.8983154296875, 104.37309265136719, 102.4069595336914, 104.19972229003906, 102.4977035522461, 103.55654907226562, 101.64139556884766, 103.30465698242188, 102.32416534423828, 104.64408874511719, 102.40521240234375, 103.4590835571289, 103.16943359375, 102.94654083251953, 103.4087905883789, 102.89822387695312, 103.41270446777344, 103.0955810546875, 104.20559692382812], 'val_recall': [102.0, 103.0, 104.0, 104.0, 106.0, 103.0, 102.0, 101.0, 101.0, 106.0, 103.0, 102.0, 104.0, 102.0, 103.0, 103.0, 103.0, 103.0, 103.0, 103.0, 103.0], 'loss': [8363.659170379158, 2474.8476476194505, 2474.7822080361893, 2472.677165933567, 2467.68560037537, 2466.79207564627, 2463.323130577775, 2465.968093310068, 2461.4935405984666, 2464.284598404713, 2456.4699300808, 2457.9387549090206, 2452.5637791739687, 2454.442062894746, 2452.533096621307, 2448.532254351966, 2449.246664473332, 2453.488374875648, 2452.6280671436875, 2454.8409921553275, 2453.871654193489], 'precision': [103.98796, 103.31421, 103.625275, 103.78765, 103.13754, 103.4458, 103.75335, 104.1354, 103.85005, 103.58073, 104.379875, 104.04023, 103.81771, 104.23548, 104.62463, 104.211075, 103.47074, 104.44708, 104.327614, 103.51075, 104.08428], 'recall': [66.939, 102.56995, 102.9679, 103.41205, 102.768684, 102.84967, 102.87817, 103.38585, 103.50354, 103.084656, 104.5563, 103.404366, 102.940796, 103.78848, 103.02815, 103.24926, 103.42629, 103.61005, 103.14162, 102.97959, 103.116806], 'lr': [0.001, 0.001, 0.001, 0.001, 0.001, 0.001, 0.001, 0.001, 0.001, 0.001, 0.000100000005, 0.000100000005, 0.000100000005, 0.000100000005, 1.0000001e-05, 1.0000001e-05, 1.0000001e-05, 1.0000001e-05, 1.0000001e-06, 1.0000001e-06, 1.0000001e-06]}\n"
     ]
    }
   ],
   "source": [
    "print(history.history)"
   ]
  },
  {
   "cell_type": "code",
   "execution_count": 26,
   "metadata": {},
   "outputs": [
    {
     "data": {
      "image/png": "[encoded data removed]",
      "text/plain": [
       "<Figure size 576x576 with 3 Axes>"
      ]
     },
     "metadata": {
      "needs_background": "light"
     },
     "output_type": "display_data"
    },
    {
     "name": "stdout",
     "output_type": "stream",
     "text": [
      "{'val_loss': [2446.533203125, 2709.9990234375, 2109.176513671875, 2912.429931640625, 3056.548095703125, 655.69482421875, 1575.3560791015625, 1779.8563232421875, 4536.02490234375, 1161.2275390625, 3198.357177734375, 5775.28271484375, 3561.693359375, 1915.1668701171875, 2050.791748046875, 3362.030517578125, 2665.494873046875, 2013.0128173828125, 2249.5126953125, 1169.710205078125, 3290.580810546875], 'val_precision': [103.41046142578125, 101.60807037353516, 102.8983154296875, 104.37309265136719, 102.4069595336914, 104.19972229003906, 102.4977035522461, 103.55654907226562, 101.64139556884766, 103.30465698242188, 102.32416534423828, 104.64408874511719, 102.40521240234375, 103.4590835571289, 103.16943359375, 102.94654083251953, 103.4087905883789, 102.89822387695312, 103.41270446777344, 103.0955810546875, 104.20559692382812], 'val_recall': [102.0, 103.0, 104.0, 104.0, 106.0, 103.0, 102.0, 101.0, 101.0, 106.0, 103.0, 102.0, 104.0, 102.0, 103.0, 103.0, 103.0, 103.0, 103.0, 103.0, 103.0], 'loss': [8363.659170379158, 2474.8476476194505, 2474.7822080361893, 2472.677165933567, 2467.68560037537, 2466.79207564627, 2463.323130577775, 2465.968093310068, 2461.4935405984666, 2464.284598404713, 2456.4699300808, 2457.9387549090206, 2452.5637791739687, 2454.442062894746, 2452.533096621307, 2448.532254351966, 2449.246664473332, 2453.488374875648, 2452.6280671436875, 2454.8409921553275, 2453.871654193489], 'precision': [103.98796, 103.31421, 103.625275, 103.78765, 103.13754, 103.4458, 103.75335, 104.1354, 103.85005, 103.58073, 104.379875, 104.04023, 103.81771, 104.23548, 104.62463, 104.211075, 103.47074, 104.44708, 104.327614, 103.51075, 104.08428], 'recall': [66.939, 102.56995, 102.9679, 103.41205, 102.768684, 102.84967, 102.87817, 103.38585, 103.50354, 103.084656, 104.5563, 103.404366, 102.940796, 103.78848, 103.02815, 103.24926, 103.42629, 103.61005, 103.14162, 102.97959, 103.116806], 'lr': [0.001, 0.001, 0.001, 0.001, 0.001, 0.001, 0.001, 0.001, 0.001, 0.001, 0.000100000005, 0.000100000005, 0.000100000005, 0.000100000005, 1.0000001e-05, 1.0000001e-05, 1.0000001e-05, 1.0000001e-05, 1.0000001e-06, 1.0000001e-06, 1.0000001e-06]}\n"
     ]
    }
   ],
   "source": [
    "acc = history.history['precision']\n",
    "val_acc = history.history['val_precision']\n",
    "\n",
    "rec = history.history['recall']\n",
    "val_rec = history.history['val_recall']\n",
    "\n",
    "loss = history.history['loss']\n",
    "val_loss = history.history['val_loss']\n",
    "\n",
    "plt.figure(figsize=(8, 8))\n",
    "plt.subplot(3, 1, 1)\n",
    "plt.plot(acc, label='Training Precision')\n",
    "plt.plot(val_acc, label='Validation Precision')\n",
    "plt.legend(loc='lower right')\n",
    "plt.ylabel('Precision')\n",
    "plt.ylim([min(plt.ylim()),200])\n",
    "plt.title('Training and Validation Precision')\n",
    "\n",
    "plt.subplot(3, 1, 2)\n",
    "plt.plot(rec, label='Training Recall')\n",
    "plt.plot(val_rec, label='Validation Recall')\n",
    "plt.legend(loc='lower right')\n",
    "plt.ylabel('Recall')\n",
    "plt.ylim([min(plt.ylim()),200])\n",
    "plt.title('Training and Validation Recall')\n",
    "\n",
    "plt.subplot(3, 1, 3)\n",
    "plt.plot(loss, label='Training Loss')\n",
    "plt.plot(val_loss, label='Validation Loss')\n",
    "plt.legend(loc='upper right')\n",
    "plt.ylabel('Cross Entropy')\n",
    "plt.ylim([0,10000])\n",
    "plt.title('Training and Validation Loss')\n",
    "plt.xlabel('epoch')\n",
    "plt.show()\n",
    "\n",
    "\n",
    "# In[ ]:\n",
    "\n",
    "\n",
    "print(history.history)"
   ]
  },
  {
   "cell_type": "code",
   "execution_count": null,
   "metadata": {
    "pycharm": {
     "name": "#%%\n"
    }
   },
   "outputs": [],
   "source": [
    "# In[ ]:\n",
    "\n",
    "import pandas as pd\n",
    "dict_data = history.history\n",
    "df = pd.DataFrame.from_dict(dict_data, dtype=float)\n",
    "csv_file = \"history_resnet.csv\"\n",
    "df.to_csv(csv_file)\n",
    "\n",
    "\n",
    "# In[ ]:\n",
    "\n",
    "model_json = model.to_json()\n",
    "with open(\"resnet50.json\", \"w\") as json_file:\n",
    "    json_file.write(model_json)\n",
    "# serialize weights to HDF5\n",
    "model.save_weights(\"resnet50.h5\")\n",
    "print(\"Saved model to disk\")"
   ]
  },
  {
   "cell_type": "code",
   "execution_count": 23,
   "metadata": {},
   "outputs": [
    {
     "name": "stdout",
     "output_type": "stream",
     "text": [
      "Found 3366 validated image filenames.\n"
     ]
    }
   ],
   "source": [
    "train_datagen = ImageDataGenerator(\n",
    "    brightness_range=[0.4,1.0], \n",
    "    preprocessing_function=preprocess_input)\n",
    "\n",
    "test_generator = train_datagen.flow_from_dataframe(\n",
    "        dataframe=test_df,\n",
    "        directory='.\\\\dataset\\\\test',\n",
    "        x_col=\"filename\",\n",
    "        y_col=[\"x_start\",\"y_start\",\"width\",\"height\"],\n",
    "        class_mode=\"raw\",\n",
    "        target_size=(300, 300),\n",
    "        batch_size=128)\n",
    "\n",
    "step_size_test = test_generator.n/test_generator.batch_size"
   ]
  },
  {
   "cell_type": "code",
   "execution_count": 24,
   "metadata": {},
   "outputs": [],
   "source": [
    "import numpy as np"
   ]
  },
  {
   "cell_type": "code",
   "execution_count": 25,
   "metadata": {},
   "outputs": [
    {
     "ename": "ResourceExhaustedError",
     "evalue": "2 root error(s) found.\n  (0) Resource exhausted: OOM when allocating tensor with shape[128,64,300,300] and type float on /job:localhost/replica:0/task:0/device:GPU:0 by allocator GPU_0_bfc\n\t [[{{node vggface_vgg16/conv1_2/convolution}}]]\nHint: If you want to see a list of allocated tensors when OOM happens, add report_tensor_allocations_upon_oom to RunOptions for current allocation info.\n\n\t [[dense_3/Relu/_547]]\nHint: If you want to see a list of allocated tensors when OOM happens, add report_tensor_allocations_upon_oom to RunOptions for current allocation info.\n\n  (1) Resource exhausted: OOM when allocating tensor with shape[128,64,300,300] and type float on /job:localhost/replica:0/task:0/device:GPU:0 by allocator GPU_0_bfc\n\t [[{{node vggface_vgg16/conv1_2/convolution}}]]\nHint: If you want to see a list of allocated tensors when OOM happens, add report_tensor_allocations_upon_oom to RunOptions for current allocation info.\n\n0 successful operations.\n0 derived errors ignored.",
     "output_type": "error",
     "traceback": [
      "\u001b[1;31m---------------------------------------------------------------------------\u001b[0m",
      "\u001b[1;31mResourceExhaustedError\u001b[0m                    Traceback (most recent call last)",
      "\u001b[1;32m<ipython-input-25-d138fb6bc6b3>\u001b[0m in \u001b[0;36m<module>\u001b[1;34m\u001b[0m\n\u001b[1;32m----> 1\u001b[1;33m \u001b[0mpredictions\u001b[0m \u001b[1;33m=\u001b[0m \u001b[0mmodel\u001b[0m\u001b[1;33m.\u001b[0m\u001b[0mpredict_generator\u001b[0m\u001b[1;33m(\u001b[0m\u001b[0mtest_generator\u001b[0m\u001b[1;33m,\u001b[0m \u001b[0mstep_size_test\u001b[0m\u001b[1;33m,\u001b[0m \u001b[0mverbose\u001b[0m\u001b[1;33m=\u001b[0m\u001b[1;36m1\u001b[0m\u001b[1;33m)\u001b[0m\u001b[1;33m\u001b[0m\u001b[1;33m\u001b[0m\u001b[0m\n\u001b[0m",
      "\u001b[1;32mc:\\users\\lorenzo\\desktop\\università\\machine_learning_project\\venv\\lib\\site-packages\\keras\\legacy\\interfaces.py\u001b[0m in \u001b[0;36mwrapper\u001b[1;34m(*args, **kwargs)\u001b[0m\n\u001b[0;32m     89\u001b[0m                 warnings.warn('Update your `' + object_name + '` call to the ' +\n\u001b[0;32m     90\u001b[0m                               'Keras 2 API: ' + signature, stacklevel=2)\n\u001b[1;32m---> 91\u001b[1;33m             \u001b[1;32mreturn\u001b[0m \u001b[0mfunc\u001b[0m\u001b[1;33m(\u001b[0m\u001b[1;33m*\u001b[0m\u001b[0margs\u001b[0m\u001b[1;33m,\u001b[0m \u001b[1;33m**\u001b[0m\u001b[0mkwargs\u001b[0m\u001b[1;33m)\u001b[0m\u001b[1;33m\u001b[0m\u001b[1;33m\u001b[0m\u001b[0m\n\u001b[0m\u001b[0;32m     92\u001b[0m         \u001b[0mwrapper\u001b[0m\u001b[1;33m.\u001b[0m\u001b[0m_original_function\u001b[0m \u001b[1;33m=\u001b[0m \u001b[0mfunc\u001b[0m\u001b[1;33m\u001b[0m\u001b[1;33m\u001b[0m\u001b[0m\n\u001b[0;32m     93\u001b[0m         \u001b[1;32mreturn\u001b[0m \u001b[0mwrapper\u001b[0m\u001b[1;33m\u001b[0m\u001b[1;33m\u001b[0m\u001b[0m\n",
      "\u001b[1;32mc:\\users\\lorenzo\\desktop\\università\\machine_learning_project\\venv\\lib\\site-packages\\keras\\engine\\training.py\u001b[0m in \u001b[0;36mpredict_generator\u001b[1;34m(self, generator, steps, callbacks, max_queue_size, workers, use_multiprocessing, verbose)\u001b[0m\n\u001b[0;32m   1844\u001b[0m             \u001b[0mworkers\u001b[0m\u001b[1;33m=\u001b[0m\u001b[0mworkers\u001b[0m\u001b[1;33m,\u001b[0m\u001b[1;33m\u001b[0m\u001b[1;33m\u001b[0m\u001b[0m\n\u001b[0;32m   1845\u001b[0m             \u001b[0muse_multiprocessing\u001b[0m\u001b[1;33m=\u001b[0m\u001b[0muse_multiprocessing\u001b[0m\u001b[1;33m,\u001b[0m\u001b[1;33m\u001b[0m\u001b[1;33m\u001b[0m\u001b[0m\n\u001b[1;32m-> 1846\u001b[1;33m             verbose=verbose)\n\u001b[0m\u001b[0;32m   1847\u001b[0m \u001b[1;33m\u001b[0m\u001b[0m\n\u001b[0;32m   1848\u001b[0m \u001b[1;33m\u001b[0m\u001b[0m\n",
      "\u001b[1;32mc:\\users\\lorenzo\\desktop\\università\\machine_learning_project\\venv\\lib\\site-packages\\keras\\engine\\training_generator.py\u001b[0m in \u001b[0;36mpredict_generator\u001b[1;34m(model, generator, steps, callbacks, max_queue_size, workers, use_multiprocessing, verbose)\u001b[0m\n\u001b[0;32m    525\u001b[0m             \u001b[0mcallbacks\u001b[0m\u001b[1;33m.\u001b[0m\u001b[0m_call_batch_hook\u001b[0m\u001b[1;33m(\u001b[0m\u001b[1;34m'predict'\u001b[0m\u001b[1;33m,\u001b[0m \u001b[1;34m'begin'\u001b[0m\u001b[1;33m,\u001b[0m \u001b[0msteps_done\u001b[0m\u001b[1;33m,\u001b[0m \u001b[0mbatch_logs\u001b[0m\u001b[1;33m)\u001b[0m\u001b[1;33m\u001b[0m\u001b[1;33m\u001b[0m\u001b[0m\n\u001b[0;32m    526\u001b[0m \u001b[1;33m\u001b[0m\u001b[0m\n\u001b[1;32m--> 527\u001b[1;33m             \u001b[0mouts\u001b[0m \u001b[1;33m=\u001b[0m \u001b[0mmodel\u001b[0m\u001b[1;33m.\u001b[0m\u001b[0mpredict_on_batch\u001b[0m\u001b[1;33m(\u001b[0m\u001b[0mx\u001b[0m\u001b[1;33m)\u001b[0m\u001b[1;33m\u001b[0m\u001b[1;33m\u001b[0m\u001b[0m\n\u001b[0m\u001b[0;32m    528\u001b[0m             \u001b[0mouts\u001b[0m \u001b[1;33m=\u001b[0m \u001b[0mto_list\u001b[0m\u001b[1;33m(\u001b[0m\u001b[0mouts\u001b[0m\u001b[1;33m)\u001b[0m\u001b[1;33m\u001b[0m\u001b[1;33m\u001b[0m\u001b[0m\n\u001b[0;32m    529\u001b[0m \u001b[1;33m\u001b[0m\u001b[0m\n",
      "\u001b[1;32mc:\\users\\lorenzo\\desktop\\università\\machine_learning_project\\venv\\lib\\site-packages\\keras\\engine\\training.py\u001b[0m in \u001b[0;36mpredict_on_batch\u001b[1;34m(self, x)\u001b[0m\n\u001b[0;32m   1578\u001b[0m             \u001b[0mins\u001b[0m \u001b[1;33m=\u001b[0m \u001b[0mx\u001b[0m\u001b[1;33m\u001b[0m\u001b[1;33m\u001b[0m\u001b[0m\n\u001b[0;32m   1579\u001b[0m         \u001b[0mself\u001b[0m\u001b[1;33m.\u001b[0m\u001b[0m_make_predict_function\u001b[0m\u001b[1;33m(\u001b[0m\u001b[1;33m)\u001b[0m\u001b[1;33m\u001b[0m\u001b[1;33m\u001b[0m\u001b[0m\n\u001b[1;32m-> 1580\u001b[1;33m         \u001b[0moutputs\u001b[0m \u001b[1;33m=\u001b[0m \u001b[0mself\u001b[0m\u001b[1;33m.\u001b[0m\u001b[0mpredict_function\u001b[0m\u001b[1;33m(\u001b[0m\u001b[0mins\u001b[0m\u001b[1;33m)\u001b[0m\u001b[1;33m\u001b[0m\u001b[1;33m\u001b[0m\u001b[0m\n\u001b[0m\u001b[0;32m   1581\u001b[0m         \u001b[1;32mreturn\u001b[0m \u001b[0munpack_singleton\u001b[0m\u001b[1;33m(\u001b[0m\u001b[0moutputs\u001b[0m\u001b[1;33m)\u001b[0m\u001b[1;33m\u001b[0m\u001b[1;33m\u001b[0m\u001b[0m\n\u001b[0;32m   1582\u001b[0m \u001b[1;33m\u001b[0m\u001b[0m\n",
      "\u001b[1;32mc:\\users\\lorenzo\\desktop\\università\\machine_learning_project\\venv\\lib\\site-packages\\tensorflow\\python\\keras\\backend.py\u001b[0m in \u001b[0;36m__call__\u001b[1;34m(self, inputs)\u001b[0m\n\u001b[0;32m   3290\u001b[0m \u001b[1;33m\u001b[0m\u001b[0m\n\u001b[0;32m   3291\u001b[0m     fetched = self._callable_fn(*array_vals,\n\u001b[1;32m-> 3292\u001b[1;33m                                 run_metadata=self.run_metadata)\n\u001b[0m\u001b[0;32m   3293\u001b[0m     \u001b[0mself\u001b[0m\u001b[1;33m.\u001b[0m\u001b[0m_call_fetch_callbacks\u001b[0m\u001b[1;33m(\u001b[0m\u001b[0mfetched\u001b[0m\u001b[1;33m[\u001b[0m\u001b[1;33m-\u001b[0m\u001b[0mlen\u001b[0m\u001b[1;33m(\u001b[0m\u001b[0mself\u001b[0m\u001b[1;33m.\u001b[0m\u001b[0m_fetches\u001b[0m\u001b[1;33m)\u001b[0m\u001b[1;33m:\u001b[0m\u001b[1;33m]\u001b[0m\u001b[1;33m)\u001b[0m\u001b[1;33m\u001b[0m\u001b[1;33m\u001b[0m\u001b[0m\n\u001b[0;32m   3294\u001b[0m     output_structure = nest.pack_sequence_as(\n",
      "\u001b[1;32mc:\\users\\lorenzo\\desktop\\università\\machine_learning_project\\venv\\lib\\site-packages\\tensorflow\\python\\client\\session.py\u001b[0m in \u001b[0;36m__call__\u001b[1;34m(self, *args, **kwargs)\u001b[0m\n\u001b[0;32m   1456\u001b[0m         ret = tf_session.TF_SessionRunCallable(self._session._session,\n\u001b[0;32m   1457\u001b[0m                                                \u001b[0mself\u001b[0m\u001b[1;33m.\u001b[0m\u001b[0m_handle\u001b[0m\u001b[1;33m,\u001b[0m \u001b[0margs\u001b[0m\u001b[1;33m,\u001b[0m\u001b[1;33m\u001b[0m\u001b[1;33m\u001b[0m\u001b[0m\n\u001b[1;32m-> 1458\u001b[1;33m                                                run_metadata_ptr)\n\u001b[0m\u001b[0;32m   1459\u001b[0m         \u001b[1;32mif\u001b[0m \u001b[0mrun_metadata\u001b[0m\u001b[1;33m:\u001b[0m\u001b[1;33m\u001b[0m\u001b[1;33m\u001b[0m\u001b[0m\n\u001b[0;32m   1460\u001b[0m           \u001b[0mproto_data\u001b[0m \u001b[1;33m=\u001b[0m \u001b[0mtf_session\u001b[0m\u001b[1;33m.\u001b[0m\u001b[0mTF_GetBuffer\u001b[0m\u001b[1;33m(\u001b[0m\u001b[0mrun_metadata_ptr\u001b[0m\u001b[1;33m)\u001b[0m\u001b[1;33m\u001b[0m\u001b[1;33m\u001b[0m\u001b[0m\n",
      "\u001b[1;31mResourceExhaustedError\u001b[0m: 2 root error(s) found.\n  (0) Resource exhausted: OOM when allocating tensor with shape[128,64,300,300] and type float on /job:localhost/replica:0/task:0/device:GPU:0 by allocator GPU_0_bfc\n\t [[{{node vggface_vgg16/conv1_2/convolution}}]]\nHint: If you want to see a list of allocated tensors when OOM happens, add report_tensor_allocations_upon_oom to RunOptions for current allocation info.\n\n\t [[dense_3/Relu/_547]]\nHint: If you want to see a list of allocated tensors when OOM happens, add report_tensor_allocations_upon_oom to RunOptions for current allocation info.\n\n  (1) Resource exhausted: OOM when allocating tensor with shape[128,64,300,300] and type float on /job:localhost/replica:0/task:0/device:GPU:0 by allocator GPU_0_bfc\n\t [[{{node vggface_vgg16/conv1_2/convolution}}]]\nHint: If you want to see a list of allocated tensors when OOM happens, add report_tensor_allocations_upon_oom to RunOptions for current allocation info.\n\n0 successful operations.\n0 derived errors ignored."
     ]
    }
   ],
   "source": [
    "predictions = model.predict_generator(test_generator, step_size_test, verbose=1)"
   ]
  },
  {
   "cell_type": "code",
   "execution_count": null,
   "metadata": {},
   "outputs": [],
   "source": [
    "print(predictions)"
   ]
  },
  {
   "cell_type": "code",
   "execution_count": null,
   "metadata": {
    "pycharm": {
     "name": "#%%\n"
    }
   },
   "outputs": [],
   "source": [
    "from PIL import Image, ImageDraw\n",
    "i = 0\n",
    "\n",
    "for el in zip(predictions, test_generator.filenames):\n",
    "    print(el[0], el[1])\n",
    "    image = Image.open(test_generator.directory + \"\\\\\" + el[1])\n",
    "    draw = ImageDraw.Draw(image)\n",
    "    draw.rectangle(((el[0][0], el[0][1]), (el[0][0] + el[0][2], el[0][1] + el[0][3])), outline=\"Red\")\n",
    "    \n",
    "    image.save('.\\\\dataset\\\\test_valuated\\\\' + el[1])    "
   ]
  },
  {
   "cell_type": "code",
   "execution_count": null,
   "metadata": {},
   "outputs": [],
   "source": []
  }
 ],
 "metadata": {
  "kernelspec": {
   "display_name": "Python 3",
   "language": "python",
   "name": "python3"
  },
  "language_info": {
   "codemirror_mode": {
    "name": "ipython",
    "version": 3
   },
   "file_extension": ".py",
   "mimetype": "text/x-python",
   "name": "python",
   "nbconvert_exporter": "python",
   "pygments_lexer": "ipython3",
   "version": "3.6.8"
  },
  "pycharm": {
   "stem_cell": {
    "cell_type": "raw",
    "metadata": {
     "collapsed": false
    },
    "source": []
   }
  }
 },
 "nbformat": 4,
 "nbformat_minor": 1
}
