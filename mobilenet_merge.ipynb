{
 "cells": [
  {
   "cell_type": "code",
   "execution_count": 1,
   "metadata": {
    "pycharm": {
     "name": "#%%\n"
    }
   },
   "outputs": [],
   "source": [
    "#!/usr/bin/python\n",
    "# -*- coding: utf-8 -*-\n",
    "import warnings\n",
    "warnings.filterwarnings('ignore')"
   ]
  },
  {
   "cell_type": "code",
   "execution_count": 2,
   "metadata": {
    "pycharm": {
     "name": "#%%\n"
    }
   },
   "outputs": [
    {
     "name": "stderr",
     "output_type": "stream",
     "text": [
      "Using TensorFlow backend.\n"
     ]
    }
   ],
   "source": [
    "import tensorflow\n",
    "from  keras.models import Sequential, Model, clone_model\n",
    "from  keras.layers import Input, Dense, Add,LeakyReLU, Activation, Concatenate,Conv2D, MaxPooling2D, Dropout, GlobalAveragePooling2D, InputLayer, Flatten, BatchNormalization, Reshape, Lambda\n",
    "\n",
    "from  keras.callbacks import ModelCheckpoint, EarlyStopping, ReduceLROnPlateau,Callback\n",
    "#from  keras.applications.vgg16 import VGG16, preprocess_input\n",
    "#from  keras.applications import ResNet152V2,ResNet101V2,ResNet50V2 \n",
    "from keras.applications.mobilenet_v2 import MobileNetV2, preprocess_input \n",
    "\n",
    "from  keras.optimizers import RMSprop, Adam, Adadelta\n",
    "from  keras.preprocessing.image import load_img, ImageDataGenerator\n",
    "from  keras.utils import multi_gpu_model\n",
    "import keras.regularizers as regularizers\n",
    "from tensorflow.keras.backend import epsilon\n",
    "from IPython.display import Image \n",
    "\n",
    "import keras_metrics\n",
    "import pandas\n",
    "import ast\n",
    "import numpy as np\n",
    "import matplotlib.patches as patches \n",
    "import matplotlib.pyplot as plt\n",
    "import matplotlib.image as mpimg\n",
    "from PIL import Image, ImageDraw,ImageFont"
   ]
  },
  {
   "cell_type": "code",
   "execution_count": 3,
   "metadata": {
    "pycharm": {
     "name": "#%%\n"
    }
   },
   "outputs": [],
   "source": [
    "%matplotlib inline\n",
    "import matplotlib.pyplot as plt\n",
    "import matplotlib.image as mpimg\n",
    "\n",
    "import keras.backend as K\n",
    "import numpy as np\n",
    "import random"
   ]
  },
  {
   "cell_type": "code",
   "execution_count": 4,
   "metadata": {
    "pycharm": {
     "name": "#%%\n"
    }
   },
   "outputs": [],
   "source": [
    "BATCH_SIZE = 32\n",
    "IMG_SIZE = 224"
   ]
  },
  {
   "cell_type": "code",
   "execution_count": 5,
   "metadata": {
    "pycharm": {
     "name": "#%%\n"
    }
   },
   "outputs": [],
   "source": [
    "train_df = pandas.read_csv(\"/data01/ML/dataset/FACE_CLASSIFIER/dataset_all/train3.csv\")\n",
    "valid_df = pandas.read_csv(\"/data01/ML/dataset/FACE_CLASSIFIER/dataset_all/val3.csv\")"
   ]
  },
  {
   "cell_type": "code",
   "execution_count": 6,
   "metadata": {},
   "outputs": [
    {
     "data": {
      "text/html": [
       "<div>\n",
       "<style scoped>\n",
       "    .dataframe tbody tr th:only-of-type {\n",
       "        vertical-align: middle;\n",
       "    }\n",
       "\n",
       "    .dataframe tbody tr th {\n",
       "        vertical-align: top;\n",
       "    }\n",
       "\n",
       "    .dataframe thead th {\n",
       "        text-align: right;\n",
       "    }\n",
       "</style>\n",
       "<table border=\"1\" class=\"dataframe\">\n",
       "  <thead>\n",
       "    <tr style=\"text-align: right;\">\n",
       "      <th></th>\n",
       "      <th>image_path</th>\n",
       "      <th>face</th>\n",
       "      <th>x</th>\n",
       "      <th>y</th>\n",
       "      <th>x_2</th>\n",
       "      <th>y_2</th>\n",
       "    </tr>\n",
       "  </thead>\n",
       "  <tbody>\n",
       "    <tr>\n",
       "      <th>0</th>\n",
       "      <td>/data01/ML/dataset/FACE_CLASSIFIER/256_ObjectC...</td>\n",
       "      <td>0</td>\n",
       "      <td>0</td>\n",
       "      <td>0</td>\n",
       "      <td>0</td>\n",
       "      <td>0</td>\n",
       "    </tr>\n",
       "    <tr>\n",
       "      <th>1</th>\n",
       "      <td>/data01/ML/dataset/FACE_CLASSIFIER/256_ObjectC...</td>\n",
       "      <td>0</td>\n",
       "      <td>0</td>\n",
       "      <td>0</td>\n",
       "      <td>0</td>\n",
       "      <td>0</td>\n",
       "    </tr>\n",
       "    <tr>\n",
       "      <th>2</th>\n",
       "      <td>/data01/ML/dataset/FACE_CLASSIFIER/256_ObjectC...</td>\n",
       "      <td>0</td>\n",
       "      <td>0</td>\n",
       "      <td>0</td>\n",
       "      <td>0</td>\n",
       "      <td>0</td>\n",
       "    </tr>\n",
       "  </tbody>\n",
       "</table>\n",
       "</div>"
      ],
      "text/plain": [
       "                                          image_path  face  x  y  x_2  y_2\n",
       "0  /data01/ML/dataset/FACE_CLASSIFIER/256_ObjectC...     0  0  0    0    0\n",
       "1  /data01/ML/dataset/FACE_CLASSIFIER/256_ObjectC...     0  0  0    0    0\n",
       "2  /data01/ML/dataset/FACE_CLASSIFIER/256_ObjectC...     0  0  0    0    0"
      ]
     },
     "execution_count": 6,
     "metadata": {},
     "output_type": "execute_result"
    }
   ],
   "source": [
    "train_df.head(3)\n",
    "#TODO: prova a fare face con array [0] e un label con array [x,y,w,h,]"
   ]
  },
  {
   "cell_type": "markdown",
   "metadata": {},
   "source": [
    "# Generate models architecture"
   ]
  },
  {
   "cell_type": "markdown",
   "metadata": {},
   "source": [
    "## Bounding Boxer"
   ]
  },
  {
   "cell_type": "code",
   "execution_count": 7,
   "metadata": {},
   "outputs": [],
   "source": [
    "model2 =  MobileNetV2(include_top=False, weights='imagenet', input_shape=(224,224,3), alpha = 1.4)\n",
    "input_ = model2.input"
   ]
  },
  {
   "cell_type": "code",
   "execution_count": 8,
   "metadata": {},
   "outputs": [],
   "source": [
    "boxer_branch = model2.layers[-1].output\n",
    "boxer_branch = Conv2D(4,7, strides=(1,1), name=\"detector_conv_2\", activation = \"relu\")(boxer_branch)\n",
    "boxer_branch = Reshape((4,), name = \"coords\")(boxer_branch)\n",
    "model_boxer = Model(input = [input_], outputs = boxer_branch)\n",
    "model_boxer = multi_gpu_model(model_boxer,gpus=2)\n",
    "model_boxer.load_weights('mobile_net_seconda_passata.h5')"
   ]
  },
  {
   "cell_type": "markdown",
   "metadata": {},
   "source": [
    "## Classifier"
   ]
  },
  {
   "cell_type": "code",
   "execution_count": 9,
   "metadata": {},
   "outputs": [],
   "source": [
    "model =  MobileNetV2(include_top=False, weights='imagenet', input_shape=(224,224,3), alpha = 1.4)\n",
    "model.trainable = True\n",
    "w = 0\n",
    "for layer in model.layers[:len(model.layers)-w]:\n",
    "    layer.trainable = True\n",
    "    layer.name = layer.name + \"_class\"\n",
    "last = model.layers[-1].output\n",
    "classifier_branch = GlobalAveragePooling2D(name = \"glob_average_mine\")(last)\n",
    "#classifier_branch = Dense(128, activation = \"relu\", name = \"dense1\")(classifier_branch)\n",
    "classifier_branch = Dense(1, activation = \"sigmoid\", name = \"classes\")(classifier_branch)\n",
    "model_class = Model(inputs=[model.input], outputs=[classifier_branch])\n",
    "model_class = multi_gpu_model(model_class,gpus=2)\n",
    "model_class.load_weights(\"mobile_net_class.h5\")"
   ]
  },
  {
   "cell_type": "markdown",
   "metadata": {},
   "source": [
    "## Merge models"
   ]
  },
  {
   "cell_type": "code",
   "execution_count": 10,
   "metadata": {},
   "outputs": [],
   "source": [
    "parallel_model= Model([model.input, model2.input], outputs=[classifier_branch, boxer_branch])"
   ]
  },
  {
   "cell_type": "code",
   "execution_count": 31,
   "metadata": {},
   "outputs": [],
   "source": [
    "parallel_model.save_weights(\"single_face_total.h5\")"
   ]
  },
  {
   "cell_type": "code",
   "execution_count": 12,
   "metadata": {},
   "outputs": [],
   "source": [
    "parallel_model.compile(optimizer = \"adam\", loss=\"mse\")"
   ]
  },
  {
   "cell_type": "markdown",
   "metadata": {},
   "source": [
    "# Testing"
   ]
  },
  {
   "cell_type": "code",
   "execution_count": 72,
   "metadata": {},
   "outputs": [
    {
     "data": {
      "text/html": [
       "<div>\n",
       "<style scoped>\n",
       "    .dataframe tbody tr th:only-of-type {\n",
       "        vertical-align: middle;\n",
       "    }\n",
       "\n",
       "    .dataframe tbody tr th {\n",
       "        vertical-align: top;\n",
       "    }\n",
       "\n",
       "    .dataframe thead th {\n",
       "        text-align: right;\n",
       "    }\n",
       "</style>\n",
       "<table border=\"1\" class=\"dataframe\">\n",
       "  <thead>\n",
       "    <tr style=\"text-align: right;\">\n",
       "      <th></th>\n",
       "      <th>image_path</th>\n",
       "      <th>face</th>\n",
       "    </tr>\n",
       "  </thead>\n",
       "  <tbody>\n",
       "    <tr>\n",
       "      <th>0</th>\n",
       "      <td>/data01/ML/dataset/FACE_CLASSIFIER/test.jpg</td>\n",
       "      <td>1</td>\n",
       "    </tr>\n",
       "    <tr>\n",
       "      <th>1</th>\n",
       "      <td>/data01/ML/dataset/FACE_CLASSIFIER/test2.jpg</td>\n",
       "      <td>1</td>\n",
       "    </tr>\n",
       "    <tr>\n",
       "      <th>2</th>\n",
       "      <td>/data01/ML/dataset/FACE_CLASSIFIER/test3.jpg</td>\n",
       "      <td>1</td>\n",
       "    </tr>\n",
       "    <tr>\n",
       "      <th>3</th>\n",
       "      <td>/data01/ML/dataset/FACE_CLASSIFIER/cat.jpg</td>\n",
       "      <td>0</td>\n",
       "    </tr>\n",
       "  </tbody>\n",
       "</table>\n",
       "</div>"
      ],
      "text/plain": [
       "                                     image_path  face\n",
       "0   /data01/ML/dataset/FACE_CLASSIFIER/test.jpg     1\n",
       "1  /data01/ML/dataset/FACE_CLASSIFIER/test2.jpg     1\n",
       "2  /data01/ML/dataset/FACE_CLASSIFIER/test3.jpg     1\n",
       "3    /data01/ML/dataset/FACE_CLASSIFIER/cat.jpg     0"
      ]
     },
     "execution_count": 72,
     "metadata": {},
     "output_type": "execute_result"
    }
   ],
   "source": [
    "test_df = pandas.read_csv(\"/data01/ML/dataset/FACE_CLASSIFIER/dataset_face_classifier/test3.csv\")\n",
    "test_df.head(4)"
   ]
  },
  {
   "cell_type": "code",
   "execution_count": 108,
   "metadata": {},
   "outputs": [
    {
     "data": {
      "text/html": [
       "<div>\n",
       "<style scoped>\n",
       "    .dataframe tbody tr th:only-of-type {\n",
       "        vertical-align: middle;\n",
       "    }\n",
       "\n",
       "    .dataframe tbody tr th {\n",
       "        vertical-align: top;\n",
       "    }\n",
       "\n",
       "    .dataframe thead th {\n",
       "        text-align: right;\n",
       "    }\n",
       "</style>\n",
       "<table border=\"1\" class=\"dataframe\">\n",
       "  <thead>\n",
       "    <tr style=\"text-align: right;\">\n",
       "      <th></th>\n",
       "      <th>image_path</th>\n",
       "      <th>face</th>\n",
       "    </tr>\n",
       "  </thead>\n",
       "  <tbody>\n",
       "    <tr>\n",
       "      <th>0</th>\n",
       "      <td>/data01/ML/dataset/FACE_CLASSIFIER/Borderline/...</td>\n",
       "      <td>1</td>\n",
       "    </tr>\n",
       "    <tr>\n",
       "      <th>1</th>\n",
       "      <td>/data01/ML/dataset/FACE_CLASSIFIER/Borderline/...</td>\n",
       "      <td>1</td>\n",
       "    </tr>\n",
       "    <tr>\n",
       "      <th>2</th>\n",
       "      <td>/data01/ML/dataset/FACE_CLASSIFIER/Borderline/...</td>\n",
       "      <td>1</td>\n",
       "    </tr>\n",
       "    <tr>\n",
       "      <th>3</th>\n",
       "      <td>/data01/ML/dataset/FACE_CLASSIFIER/Borderline/...</td>\n",
       "      <td>1</td>\n",
       "    </tr>\n",
       "  </tbody>\n",
       "</table>\n",
       "</div>"
      ],
      "text/plain": [
       "                                          image_path  face\n",
       "0  /data01/ML/dataset/FACE_CLASSIFIER/Borderline/...     1\n",
       "1  /data01/ML/dataset/FACE_CLASSIFIER/Borderline/...     1\n",
       "2  /data01/ML/dataset/FACE_CLASSIFIER/Borderline/...     1\n",
       "3  /data01/ML/dataset/FACE_CLASSIFIER/Borderline/...     1"
      ]
     },
     "execution_count": 108,
     "metadata": {},
     "output_type": "execute_result"
    }
   ],
   "source": [
    "test_df = pandas.read_csv(\"/data01/ML/dataset/FACE_CLASSIFIER/dataset_face_classifier/test_borderline.csv\")\n",
    "test_df.head(4)"
   ]
  },
  {
   "cell_type": "code",
   "execution_count": 109,
   "metadata": {
    "pycharm": {
     "name": "#%%\n"
    }
   },
   "outputs": [
    {
     "name": "stdout",
     "output_type": "stream",
     "text": [
      "Found 1583 validated image filenames.\n",
      "50/49 [==============================] - 9s 185ms/step\n"
     ]
    }
   ],
   "source": [
    "test_datagen = ImageDataGenerator(#samplewise_center = True,\n",
    "    #samplewise_std_normalization = True,\n",
    "    preprocessing_function = preprocess_input\n",
    ")\n",
    "\n",
    "test_generator = test_datagen.flow_from_dataframe(\n",
    "        dataframe=test_df,\n",
    "        directory=None,\n",
    "        x_col=\"image_path\",\n",
    "        y_col=[\"face\"],\n",
    "        class_mode=\"raw\",\n",
    "        shuffle=False,\n",
    "        color_mode = 'rgb',\n",
    "        target_size=(IMG_SIZE, IMG_SIZE),\n",
    "        batch_size=BATCH_SIZE)        \n",
    "STEP_SIZE_TEST = test_generator.n / test_generator.batch_size \n",
    "\n",
    "def generate_data_generator2(generator):\n",
    "    while True:\n",
    "        batch_1 = generator.next()\n",
    "        yield [batch_1[0],batch_1[0]] \n",
    "\n",
    "#print(test_generator[0][0][0].shape)\n",
    "#image_yes = test_generator[200][0]\n",
    "#image_no = test_generator[20][0]\n",
    "#pred1=parallel_model.predict([image_yes,image_yes])\n",
    "#pred2=parallel_model.predict([image_no,image_no])\n",
    "pred=parallel_model.predict_generator(generate_data_generator2(test_generator), steps = STEP_SIZE_TEST,verbose=1)"
   ]
  },
  {
   "cell_type": "code",
   "execution_count": 110,
   "metadata": {},
   "outputs": [],
   "source": [
    "import os\n",
    "from PIL import ImageFont\n",
    "font = ImageFont.truetype(\"usr/share/fonts/liberation/LiberationSans-Bold.ttf\", 40)\n",
    "def plot_results(image_batch, pred_class, pred_box):\n",
    "    count = 0 \n",
    "    for el in zip(image_batch,pred_class,pred_box): \n",
    "        count = count +1 \n",
    "        dir_ = os.path.dirname(el[0]).split(\"/\")[-2]\n",
    "        base = os.path.basename(el[0])\n",
    "        base = os.path.splitext(base)[0]\n",
    "        #im = Image.fromarray(np.uint8(el[0]*255))\n",
    "        im = Image.open(el[0])\n",
    "        im = im.resize((224,244))\n",
    "        img1 = ImageDraw.Draw(im)\n",
    "        if el[1][0]>=0.5:\n",
    "            bb = el[2]\n",
    "            img1.rectangle([(bb[0],bb[1]),(bb[0]+bb[2],bb[1]+bb[3])], outline =\"red\") \n",
    "        #img1.text(xy=(0,0), text = str(round(el[1][0],2)),fill=(255,255,255),font = font)\n",
    "        img1.text(xy=(0,0),text = str(round(el[1][0],2)), fill=((255)), font=font)\n",
    "        im.save(\"/home/lorenzo.stacchio/ML/Machine_learning_project/dataset/results/\"+ dir_+\"_\"+base + \"_out.png\")\n",
    "        #if count == 5000:\n",
    "        #    break"
   ]
  },
  {
   "cell_type": "code",
   "execution_count": 111,
   "metadata": {},
   "outputs": [],
   "source": [
    "plot_results(test_generator.filenames,pred[0], pred[1])"
   ]
  },
  {
   "cell_type": "code",
   "execution_count": null,
   "metadata": {},
   "outputs": [],
   "source": []
  }
 ],
 "metadata": {
  "kernelspec": {
   "display_name": "Python 3",
   "language": "python",
   "name": "python3"
  },
  "language_info": {
   "codemirror_mode": {
    "name": "ipython",
    "version": 3
   },
   "file_extension": ".py",
   "mimetype": "text/x-python",
   "name": "python",
   "nbconvert_exporter": "python",
   "pygments_lexer": "ipython3",
   "version": "3.6.7"
  },
  "pycharm": {
   "stem_cell": {
    "cell_type": "raw",
    "metadata": {
     "collapsed": false
    },
    "source": []
   }
  }
 },
 "nbformat": 4,
 "nbformat_minor": 4
}
