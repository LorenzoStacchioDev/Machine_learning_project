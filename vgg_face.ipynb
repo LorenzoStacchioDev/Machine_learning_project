{
 "cells": [
  {
   "cell_type": "code",
   "execution_count": 1,
   "metadata": {
    "pycharm": {
     "is_executing": false
    }
   },
   "outputs": [],
   "source": [
    "#!/usr/bin/python\n",
    "# -*- coding: utf-8 -*-\n",
    "\n",
    "import warnings\n",
    "warnings.filterwarnings('ignore')"
   ]
  },
  {
   "cell_type": "code",
   "execution_count": 2,
   "metadata": {},
   "outputs": [],
   "source": [
    "import tensorflow as tf"
   ]
  },
  {
   "cell_type": "code",
   "execution_count": 3,
   "metadata": {
    "pycharm": {
     "is_executing": false
    },
    "scrolled": false
   },
   "outputs": [
    {
     "name": "stderr",
     "output_type": "stream",
     "text": [
      "Using TensorFlow backend.\n"
     ]
    }
   ],
   "source": [
    "from keras.models import Sequential\n",
    "from keras import Model\n",
    "from keras.layers import Dense, Activation, Conv2D, MaxPooling2D, Dropout,Flatten\n",
    "from keras.callbacks import ModelCheckpoint, EarlyStopping, ReduceLROnPlateau\n",
    "from keras_vggface.vggface import VGGFace\n",
    "from keras.applications.vgg16 import preprocess_input\n",
    "from keras.optimizers import Adam\n",
    "import keras\n",
    "import pandas\n",
    "import ast\n"
   ]
  },
  {
   "cell_type": "code",
   "execution_count": 4,
   "metadata": {},
   "outputs": [],
   "source": [
    "%matplotlib inline\n",
    "import matplotlib.pyplot as plt\n",
    "import matplotlib.image as mpimg"
   ]
  },
  {
   "cell_type": "code",
   "execution_count": 5,
   "metadata": {},
   "outputs": [],
   "source": [
    "train_set = \".\\\\dataset\\\\NUOVO\\\\train\"\n",
    "validation_set = \".\\\\dataset\\\\NUOVO\\\\val\"\n",
    "test_set = \".\\\\dataset\\\\NUOVO\\\\test\""
   ]
  },
  {
   "cell_type": "code",
   "execution_count": 6,
   "metadata": {},
   "outputs": [],
   "source": [
    "from keras.preprocessing.image import load_img, ImageDataGenerator"
   ]
  },
  {
   "cell_type": "code",
   "execution_count": 7,
   "metadata": {},
   "outputs": [],
   "source": [
    "train_df = pandas.read_csv(\".\\\\dataset\\\\NUOVO\\\\train\\\\output.csv\")\n",
    "valid_df = pandas.read_csv(\".\\\\dataset\\\\NUOVO\\\\val\\\\output.csv\")\n",
    "test_df = pandas.read_csv(\".\\\\dataset\\\\NUOVO\\\\test\\\\output.csv\")"
   ]
  },
  {
   "cell_type": "code",
   "execution_count": 8,
   "metadata": {
    "pycharm": {
     "name": "#%%\n"
    }
   },
   "outputs": [],
   "source": [
    "IMG_SIZE = 224\n",
    "BATCH_SIZE = 64"
   ]
  },
  {
   "cell_type": "code",
   "execution_count": 9,
   "metadata": {},
   "outputs": [
    {
     "name": "stdout",
     "output_type": "stream",
     "text": [
      "Found 164105 validated image filenames.\n",
      "Found 18234 validated image filenames.\n"
     ]
    }
   ],
   "source": [
    "train_datagen = ImageDataGenerator(\n",
    "    brightness_range=[0.4,1.0], \n",
    "    horizontal_flip= True,\n",
    "    preprocessing_function=preprocess_input)\n",
    "\n",
    "train_generator = train_datagen.flow_from_dataframe(\n",
    "        dataframe=train_df,\n",
    "        directory='.\\\\dataset\\\\NUOVO\\\\train',\n",
    "        x_col=\"image_id\",\n",
    "        y_col=[\"x_1\",\"y_1\",\"width\",\"height\"],\n",
    "        class_mode=\"raw\",\n",
    "        shuffle=True,\n",
    "        target_size=(IMG_SIZE, IMG_SIZE),\n",
    "        batch_size=BATCH_SIZE)\n",
    "\n",
    "valid_generator = train_datagen.flow_from_dataframe(\n",
    "        dataframe=valid_df,\n",
    "        directory='.\\\\dataset\\\\NUOVO\\\\val',\n",
    "        x_col=\"image_id\",\n",
    "        y_col=[\"x_1\",\"y_1\",\"width\",\"height\"],\n",
    "        class_mode=\"raw\",\n",
    "        shuffle=True,\n",
    "        target_size=(IMG_SIZE, IMG_SIZE),\n",
    "        batch_size=BATCH_SIZE)"
   ]
  },
  {
   "cell_type": "code",
   "execution_count": 10,
   "metadata": {},
   "outputs": [],
   "source": [
    "step_size_train = train_generator.n/train_generator.batch_size\n",
    "step_size_valid = valid_generator.n/valid_generator.batch_size"
   ]
  },
  {
   "cell_type": "code",
   "execution_count": 11,
   "metadata": {
    "scrolled": false
   },
   "outputs": [],
   "source": [
    "vgg_model = VGGFace(model='vgg16', include_top=False, weights='vggface', input_shape=(IMG_SIZE, IMG_SIZE, 3))"
   ]
  },
  {
   "cell_type": "code",
   "execution_count": 12,
   "metadata": {},
   "outputs": [],
   "source": [
    "vgg_model.trainable = True"
   ]
  },
  {
   "cell_type": "code",
   "execution_count": 13,
   "metadata": {
    "scrolled": true
   },
   "outputs": [
    {
     "name": "stdout",
     "output_type": "stream",
     "text": [
      "Model: \"vggface_vgg16\"\n",
      "_________________________________________________________________\n",
      "Layer (type)                 Output Shape              Param #   \n",
      "=================================================================\n",
      "input_1 (InputLayer)         (None, 224, 224, 3)       0         \n",
      "_________________________________________________________________\n",
      "conv1_1 (Conv2D)             (None, 224, 224, 64)      1792      \n",
      "_________________________________________________________________\n",
      "conv1_2 (Conv2D)             (None, 224, 224, 64)      36928     \n",
      "_________________________________________________________________\n",
      "pool1 (MaxPooling2D)         (None, 112, 112, 64)      0         \n",
      "_________________________________________________________________\n",
      "conv2_1 (Conv2D)             (None, 112, 112, 128)     73856     \n",
      "_________________________________________________________________\n",
      "conv2_2 (Conv2D)             (None, 112, 112, 128)     147584    \n",
      "_________________________________________________________________\n",
      "pool2 (MaxPooling2D)         (None, 56, 56, 128)       0         \n",
      "_________________________________________________________________\n",
      "conv3_1 (Conv2D)             (None, 56, 56, 256)       295168    \n",
      "_________________________________________________________________\n",
      "conv3_2 (Conv2D)             (None, 56, 56, 256)       590080    \n",
      "_________________________________________________________________\n",
      "conv3_3 (Conv2D)             (None, 56, 56, 256)       590080    \n",
      "_________________________________________________________________\n",
      "pool3 (MaxPooling2D)         (None, 28, 28, 256)       0         \n",
      "_________________________________________________________________\n",
      "conv4_1 (Conv2D)             (None, 28, 28, 512)       1180160   \n",
      "_________________________________________________________________\n",
      "conv4_2 (Conv2D)             (None, 28, 28, 512)       2359808   \n",
      "_________________________________________________________________\n",
      "conv4_3 (Conv2D)             (None, 28, 28, 512)       2359808   \n",
      "_________________________________________________________________\n",
      "pool4 (MaxPooling2D)         (None, 14, 14, 512)       0         \n",
      "_________________________________________________________________\n",
      "conv5_1 (Conv2D)             (None, 14, 14, 512)       2359808   \n",
      "_________________________________________________________________\n",
      "conv5_2 (Conv2D)             (None, 14, 14, 512)       2359808   \n",
      "_________________________________________________________________\n",
      "conv5_3 (Conv2D)             (None, 14, 14, 512)       2359808   \n",
      "_________________________________________________________________\n",
      "pool5 (MaxPooling2D)         (None, 7, 7, 512)         0         \n",
      "=================================================================\n",
      "Total params: 14,714,688\n",
      "Trainable params: 14,714,688\n",
      "Non-trainable params: 0\n",
      "_________________________________________________________________\n"
     ]
    }
   ],
   "source": [
    "vgg_model.summary()"
   ]
  },
  {
   "cell_type": "code",
   "execution_count": 14,
   "metadata": {},
   "outputs": [
    {
     "name": "stdout",
     "output_type": "stream",
     "text": [
      "Vgg layers n°: 19\n",
      "Conv layers in the last 2 layers:  1\n"
     ]
    }
   ],
   "source": [
    "count_conv_layer = 0\n",
    "print(\"Vgg layers n°:\",len(vgg_model.layers))\n",
    "window_layers_size = 2\n",
    "count_layer = 0\n",
    "for layer in vgg_model.layers: #train only  convolutional layers in the last 50 layers \n",
    "    count_layer = count_layer +1\n",
    "    if (count_layer > (len(vgg_model.layers)-window_layers_size)) and (\"conv\" in layer.name):\n",
    "        count_conv_layer = count_conv_layer + 1 \n",
    "        layer.trainable = True\n",
    "    else: \n",
    "        layer.trainable = False\n",
    "print(\"Conv layers in the last\",window_layers_size,\"layers: \", count_conv_layer)"
   ]
  },
  {
   "cell_type": "code",
   "execution_count": 15,
   "metadata": {},
   "outputs": [],
   "source": [
    "model = keras.Sequential()\n",
    "model.add(vgg_model)\n",
    "model.add(Conv2D(filters=1, kernel_size=(1,1), activation=\"relu\"))\n",
    "model.add(Flatten())"
   ]
  },
  {
   "cell_type": "code",
   "execution_count": 16,
   "metadata": {},
   "outputs": [],
   "source": [
    "# define last layer output size\n",
    "input_model_shape = model.input_shape[1]\n",
    "output_global_pooling_size = model.output_shape[1]"
   ]
  },
  {
   "cell_type": "code",
   "execution_count": 17,
   "metadata": {},
   "outputs": [],
   "source": [
    "# Rule 1 to choose neurons in hidden layers\n",
    "rule_1_neurons_number = int((output_global_pooling_size + 4)/2)\n",
    "# Rule 2 to choose neurons in hidden layers\n",
    "rule_2_neurons_number = int(output_global_pooling_size/2) + 4\n",
    "# Rule 2 to choose neurons in hidden layers\n",
    "alpha = 2\n",
    "rule_3_neurons_number = int(train_generator.n/(alpha*(4+output_global_pooling_size)))\n",
    "number_of_hidden_layer = 2\n",
    "rule_4_neurons_number = [int(round(x/(i+1),0)) for (x,i) in zip([output_global_pooling_size]*number_of_hidden_layer,\n",
    "                                           range(number_of_hidden_layer))]"
   ]
  },
  {
   "cell_type": "code",
   "execution_count": 18,
   "metadata": {},
   "outputs": [
    {
     "name": "stdout",
     "output_type": "stream",
     "text": [
      "49 24\n"
     ]
    }
   ],
   "source": [
    "print(rule_4_neurons_number[0],rule_4_neurons_number[1])"
   ]
  },
  {
   "cell_type": "code",
   "execution_count": 19,
   "metadata": {},
   "outputs": [],
   "source": [
    "model.add(Dense(rule_4_neurons_number[0],activation='relu'))\n",
    "model.add(Dropout(0.5))\n",
    "model.add(Dense(rule_4_neurons_number[1],activation='relu'))\n",
    "model.add(Dropout(0.5))\n",
    "\n",
    "model.add(Dense(4,activation='relu'))"
   ]
  },
  {
   "cell_type": "code",
   "execution_count": 20,
   "metadata": {},
   "outputs": [],
   "source": [
    "model.compile(optimizer=Adam(learning_rate= 0.0001), loss='mse', metrics=[\"accuracy\"])"
   ]
  },
  {
   "cell_type": "code",
   "execution_count": 21,
   "metadata": {
    "scrolled": true
   },
   "outputs": [
    {
     "name": "stdout",
     "output_type": "stream",
     "text": [
      "Model: \"sequential_1\"\n",
      "_________________________________________________________________\n",
      "Layer (type)                 Output Shape              Param #   \n",
      "=================================================================\n",
      "vggface_vgg16 (Model)        (None, 7, 7, 512)         14714688  \n",
      "_________________________________________________________________\n",
      "conv2d_1 (Conv2D)            (None, 7, 7, 1)           513       \n",
      "_________________________________________________________________\n",
      "flatten_1 (Flatten)          (None, 49)                0         \n",
      "_________________________________________________________________\n",
      "dense_1 (Dense)              (None, 49)                2450      \n",
      "_________________________________________________________________\n",
      "dropout_1 (Dropout)          (None, 49)                0         \n",
      "_________________________________________________________________\n",
      "dense_2 (Dense)              (None, 24)                1200      \n",
      "_________________________________________________________________\n",
      "dropout_2 (Dropout)          (None, 24)                0         \n",
      "_________________________________________________________________\n",
      "dense_3 (Dense)              (None, 4)                 100       \n",
      "=================================================================\n",
      "Total params: 14,718,951\n",
      "Trainable params: 2,364,071\n",
      "Non-trainable params: 12,354,880\n",
      "_________________________________________________________________\n"
     ]
    }
   ],
   "source": [
    "model.summary()"
   ]
  },
  {
   "cell_type": "code",
   "execution_count": 22,
   "metadata": {
    "scrolled": true
   },
   "outputs": [
    {
     "name": "stdout",
     "output_type": "stream",
     "text": [
      "285/284 [==============================] - 51s 178ms/step\n"
     ]
    },
    {
     "data": {
      "text/plain": [
       "[101239.2421875, 0.1698475331068039]"
      ]
     },
     "execution_count": 22,
     "metadata": {},
     "output_type": "execute_result"
    }
   ],
   "source": [
    "model.evaluate_generator(valid_generator, steps=step_size_valid, verbose = 1)"
   ]
  },
  {
   "cell_type": "code",
   "execution_count": null,
   "metadata": {
    "scrolled": true
   },
   "outputs": [
    {
     "name": "stdout",
     "output_type": "stream",
     "text": [
      "Epoch 1/25\n",
      "2565/2564 [==============================] - 471s 184ms/step - loss: 33804.8952 - accuracy: 0.5598 - val_loss: 47002.0508 - val_accuracy: 0.8098\n",
      "Epoch 2/25\n",
      "2565/2564 [==============================] - 470s 183ms/step - loss: 28259.2850 - accuracy: 0.6655 - val_loss: 9136.7207 - val_accuracy: 0.8098\n",
      "Epoch 3/25\n",
      "2565/2564 [==============================] - 470s 183ms/step - loss: 26092.9987 - accuracy: 0.7348 - val_loss: 20888.3301 - val_accuracy: 0.8098\n",
      "Epoch 4/25\n",
      "2565/2564 [==============================] - 471s 184ms/step - loss: 24918.3279 - accuracy: 0.7824 - val_loss: 12615.6396 - val_accuracy: 0.8098\n",
      "Epoch 5/25\n",
      "2565/2564 [==============================] - 470s 183ms/step - loss: 24144.5408 - accuracy: 0.7998 - val_loss: 27994.9492 - val_accuracy: 0.8098\n",
      "\n",
      "Epoch 00005: ReduceLROnPlateau reducing learning rate to 9.999999747378752e-06.\n",
      "Epoch 6/25\n",
      "1677/2564 [==================>...........] - ETA: 2:27 - loss: 23350.2119 - accuracy: 0.8030"
     ]
    }
   ],
   "source": [
    "earlyStopping = EarlyStopping(monitor='val_loss', patience=10, verbose=1, mode='min')\n",
    "mcp_save = ModelCheckpoint('vggface.h5', save_best_only=True, monitor='val_loss', mode='min')\n",
    "reduce_lr_loss = ReduceLROnPlateau(monitor='val_loss', factor=0.1, patience=3, verbose=1, mode='min')\n",
    "\n",
    "history = model.fit_generator(generator=train_generator, epochs=25, steps_per_epoch=step_size_train, validation_data=valid_generator, validation_steps=step_size_valid, verbose=1, callbacks=[mcp_save, earlyStopping, reduce_lr_loss])"
   ]
  },
  {
   "cell_type": "code",
   "execution_count": null,
   "metadata": {},
   "outputs": [],
   "source": [
    "#print(history.history)"
   ]
  },
  {
   "cell_type": "code",
   "execution_count": null,
   "metadata": {},
   "outputs": [],
   "source": [
    "acc = history.history['precision']\n",
    "val_acc = history.history['val_precision']\n",
    "\n",
    "loss = history.history['loss']\n",
    "val_loss = history.history['val_loss']\n",
    "\n",
    "plt.figure(figsize=(8, 8))\n",
    "plt.subplot(2, 1, 1)\n",
    "plt.plot(acc, label='Training Precision')\n",
    "plt.plot(val_acc, label='Validation Precision')\n",
    "plt.legend(loc='lower right')\n",
    "plt.ylabel('Precision')\n",
    "plt.ylim([min(plt.ylim()),200])\n",
    "plt.title('Training and Validation Precision')\n",
    "\n",
    "plt.subplot(2, 1, 2)\n",
    "plt.plot(loss, label='Training Loss')\n",
    "plt.plot(val_loss, label='Validation Loss')\n",
    "plt.legend(loc='upper right')\n",
    "plt.ylabel('Cross Entropy')\n",
    "plt.ylim([0,10000])\n",
    "plt.title('Training and Validation Loss')\n",
    "plt.xlabel('epoch')\n",
    "plt.show()\n",
    "\n",
    "\n",
    "# In[ ]:\n",
    "\n",
    "\n",
    "print(history.history)"
   ]
  },
  {
   "cell_type": "code",
   "execution_count": null,
   "metadata": {
    "pycharm": {
     "name": "#%%\n"
    }
   },
   "outputs": [],
   "source": [
    "# In[ ]:\n",
    "\n",
    "import pandas as pd\n",
    "dict_data = history.history\n",
    "df = pd.DataFrame.from_dict(dict_data, dtype=float)\n",
    "csv_file = \"history_resnet.csv\"\n",
    "df.to_csv(csv_file)\n",
    "\n",
    "\n",
    "# In[ ]:\n",
    "\n",
    "model_json = model.to_json()\n",
    "with open(\"resnet50.json\", \"w\") as json_file:\n",
    "    json_file.write(model_json)\n",
    "# serialize weights to HDF5\n",
    "model.save_weights(\"resnet50.h5\")\n",
    "print(\"Saved model to disk\")"
   ]
  },
  {
   "cell_type": "code",
   "execution_count": null,
   "metadata": {},
   "outputs": [],
   "source": [
    "train_datagen = ImageDataGenerator(\n",
    "    brightness_range=[0.4,1.0], \n",
    "    preprocessing_function=preprocess_input)\n",
    "\n",
    "test_generator = train_datagen.flow_from_dataframe(\n",
    "        dataframe=test_df,\n",
    "        directory='.\\\\dataset\\\\test',\n",
    "        x_col=\"filename\",\n",
    "        y_col=[\"x_start\",\"y_start\",\"width\",\"height\"],\n",
    "        class_mode=\"raw\",\n",
    "        target_size=(300, 300),\n",
    "        batch_size=128)\n",
    "\n",
    "step_size_test = test_generator.n/test_generator.batch_size"
   ]
  },
  {
   "cell_type": "code",
   "execution_count": null,
   "metadata": {},
   "outputs": [],
   "source": [
    "import numpy as np"
   ]
  },
  {
   "cell_type": "code",
   "execution_count": null,
   "metadata": {},
   "outputs": [],
   "source": [
    "predictions = model.predict_generator(test_generator, step_size_test, verbose=1)"
   ]
  },
  {
   "cell_type": "code",
   "execution_count": null,
   "metadata": {},
   "outputs": [],
   "source": [
    "print(predictions)"
   ]
  },
  {
   "cell_type": "code",
   "execution_count": null,
   "metadata": {
    "pycharm": {
     "name": "#%%\n"
    }
   },
   "outputs": [],
   "source": [
    "from PIL import Image, ImageDraw\n",
    "i = 0\n",
    "\n",
    "for el in zip(predictions, test_generator.filenames):\n",
    "    print(el[0], el[1])\n",
    "    image = Image.open(test_generator.directory + \"\\\\\" + el[1])\n",
    "    draw = ImageDraw.Draw(image)\n",
    "    draw.rectangle(((el[0][0], el[0][1]), (el[0][0] + el[0][2], el[0][1] + el[0][3])), outline=\"Red\")\n",
    "    \n",
    "    image.save('.\\\\dataset\\\\test_valuated\\\\' + el[1])    "
   ]
  },
  {
   "cell_type": "code",
   "execution_count": null,
   "metadata": {},
   "outputs": [],
   "source": []
  }
 ],
 "metadata": {
  "kernelspec": {
   "display_name": "Python 3",
   "language": "python",
   "name": "python3"
  },
  "language_info": {
   "codemirror_mode": {
    "name": "ipython",
    "version": 3
   },
   "file_extension": ".py",
   "mimetype": "text/x-python",
   "name": "python",
   "nbconvert_exporter": "python",
   "pygments_lexer": "ipython3",
   "version": "3.6.8"
  },
  "pycharm": {
   "stem_cell": {
    "cell_type": "raw",
    "metadata": {
     "collapsed": false
    },
    "source": []
   }
  }
 },
 "nbformat": 4,
 "nbformat_minor": 1
}
