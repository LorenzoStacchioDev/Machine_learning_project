{
 "cells": [
  {
   "cell_type": "code",
   "execution_count": 4,
   "metadata": {
    "pycharm": {
     "is_executing": false
    }
   },
   "outputs": [],
   "source": [
    "#!/usr/bin/python\n",
    "# -*- coding: utf-8 -*-\n",
    "\n",
    "import warnings\n",
    "warnings.filterwarnings('ignore')"
   ]
  },
  {
   "cell_type": "code",
   "execution_count": 5,
   "metadata": {
    "pycharm": {
     "is_executing": false
    },
    "scrolled": false
   },
   "outputs": [],
   "source": [
    "from keras.models import Sequential, Model\n",
    "from keras.layers import Input, Dense, Activation, Conv2D, MaxPooling2D, Dropout, GlobalAveragePooling2D, InputLayer, Flatten, BatchNormalization\n",
    "\n",
    "from keras.callbacks import ModelCheckpoint, EarlyStopping, ReduceLROnPlateau\n",
    "from keras.applications.vgg16 import preprocess_input\n",
    "from keras.optimizers import RMSprop, Adam\n",
    "from keras.preprocessing.image import load_img, ImageDataGenerator\n",
    "from keras.utils import multi_gpu_model\n",
    "\n",
    "import keras_metrics\n",
    "import pandas\n",
    "import ast\n",
    "import numpy as np\n",
    "from PIL import Image"
   ]
  },
  {
   "cell_type": "code",
   "execution_count": 6,
   "metadata": {},
   "outputs": [],
   "source": [
    "import keras.backend as K\n",
    "import numpy as np\n",
    "import random\n",
    "\n",
    "def yolf_loss(y_true, y_pred):\n",
    "    b_xy_pred = y_pred[..., :2]\n",
    "    b_wh_pred = y_pred[..., 2:4]\n",
    "    b_xy = y_true[..., 0:2]\n",
    "    b_wh = y_true[..., 2:4]\n",
    "    #print(b_xy_pred.get_shape(),b_xy.get_shape())\n",
    "    #print(b_wh_pred.get_shape(),b_wh.get_shape())\n",
    "    \n",
    "    #indicator_coord = K.expand_dims(y_true[..., 3], axis=-1) * 1.0\n",
    "\n",
    "    loss_xy = K.sum(K.square(b_xy - b_xy_pred), axis=-1)# * indicator_coord)#, axis=[1,2,3,4])\n",
    "    loss_wh = K.sum(K.square(K.sqrt(b_wh) - K.sqrt(b_wh_pred)), axis=-1)# * indicator_coord)#, axis=[1,2,3,4])\n",
    "    \n",
    "    return (loss_wh + loss_xy)/2\n",
    "\n"
   ]
  },
  {
   "cell_type": "code",
   "execution_count": 7,
   "metadata": {},
   "outputs": [],
   "source": [
    "%matplotlib inline\n",
    "import matplotlib.pyplot as plt\n",
    "import matplotlib.image as mpimg"
   ]
  },
  {
   "cell_type": "code",
   "execution_count": 8,
   "metadata": {},
   "outputs": [],
   "source": [
    "train_set = \"/home/lorenzo.stacchio/ML/Machine_learning_project/dataset/NUOVO/train/\"\n",
    "validation_set = \"/home/lorenzo.stacchio/ML/Machine_learning_project/dataset/NUOVO/val/\"\n",
    "test_set = \"/home/lorenzo.stacchio/ML/Machine_learning_project/dataset/NUOVO/test/\""
   ]
  },
  {
   "cell_type": "code",
   "execution_count": 9,
   "metadata": {},
   "outputs": [],
   "source": [
    "train_df = pandas.read_csv(\"/home/lorenzo.stacchio/ML/Machine_learning_project/dataset/NUOVO/train/output_final.csv\")\n",
    "valid_df = pandas.read_csv(\"/home/lorenzo.stacchio/ML/Machine_learning_project/dataset/NUOVO/val/output_final.csv\")\n",
    "test_df = pandas.read_csv(\"/home/lorenzo.stacchio/ML/Machine_learning_project/dataset/NUOVO/test/output_final.csv\")"
   ]
  },
  {
   "cell_type": "code",
   "execution_count": 10,
   "metadata": {},
   "outputs": [
    {
     "name": "stdout",
     "output_type": "stream",
     "text": [
      "Media x 64.62334101129757 stdev 26.993578345104307\n",
      "Media y 32.69935285729955 stdev 15.22792311959398\n",
      "Media width 95.49484479543709 stdev 36.539656449787245\n",
      "Media height 109.07529889217945 stdev 40.39441074706963\n"
     ]
    }
   ],
   "source": [
    "print(\"Media x\",valid_df.x_1.mean(), \"stdev\" ,valid_df.x_1.std() )\n",
    "print(\"Media y\",valid_df.y_1.mean(), \"stdev\" ,valid_df.y_1.std() )\n",
    "print(\"Media width\",valid_df.width.mean(), \"stdev\" ,valid_df.width.std() )\n",
    "print(\"Media height\",valid_df.height.mean(), \"stdev\" ,valid_df.height.std() )"
   ]
  },
  {
   "cell_type": "code",
   "execution_count": 8,
   "metadata": {},
   "outputs": [
    {
     "data": {
      "text/html": [
       "<div>\n",
       "<style scoped>\n",
       "    .dataframe tbody tr th:only-of-type {\n",
       "        vertical-align: middle;\n",
       "    }\n",
       "\n",
       "    .dataframe tbody tr th {\n",
       "        vertical-align: top;\n",
       "    }\n",
       "\n",
       "    .dataframe thead th {\n",
       "        text-align: right;\n",
       "    }\n",
       "</style>\n",
       "<table border=\"1\" class=\"dataframe\">\n",
       "  <thead>\n",
       "    <tr style=\"text-align: right;\">\n",
       "      <th></th>\n",
       "      <th>Unnamed: 0</th>\n",
       "      <th>image_id</th>\n",
       "      <th>x_1</th>\n",
       "      <th>y_1</th>\n",
       "      <th>width</th>\n",
       "      <th>height</th>\n",
       "    </tr>\n",
       "  </thead>\n",
       "  <tbody>\n",
       "    <tr>\n",
       "      <th>0</th>\n",
       "      <td>0</td>\n",
       "      <td>021905.jpg</td>\n",
       "      <td>57</td>\n",
       "      <td>37</td>\n",
       "      <td>133</td>\n",
       "      <td>123</td>\n",
       "    </tr>\n",
       "    <tr>\n",
       "      <th>1</th>\n",
       "      <td>1</td>\n",
       "      <td>013220.jpg</td>\n",
       "      <td>72</td>\n",
       "      <td>27</td>\n",
       "      <td>78</td>\n",
       "      <td>92</td>\n",
       "    </tr>\n",
       "  </tbody>\n",
       "</table>\n",
       "</div>"
      ],
      "text/plain": [
       "   Unnamed: 0    image_id  x_1  y_1  width  height\n",
       "0           0  021905.jpg   57   37    133     123\n",
       "1           1  013220.jpg   72   27     78      92"
      ]
     },
     "execution_count": 8,
     "metadata": {},
     "output_type": "execute_result"
    }
   ],
   "source": [
    "train_df.head(2)"
   ]
  },
  {
   "cell_type": "markdown",
   "metadata": {},
   "source": [
    "from PIL import Image, ImageDraw\n",
    "path_train_image = train_set\n",
    "count = 0 \n",
    "for index,row in train_df.iterrows(): \n",
    "    count = count +1 \n",
    "    img_path = path_train_image + \"/\" + row['image_id']\n",
    "    im = Image.open(img_path)\n",
    "    x,y,w,h =row['x_1'],row['y_1'],row['width'],row['height']\n",
    "    print(x,y,w,h)  \n",
    "    #plt.imshow(img) \n",
    "    draw = ImageDraw.Draw(im)\n",
    "    draw.rectangle(((x, y), (x+w, y+h)))\n",
    "    display(im)\n",
    "    # Add the patch to the Axes \n",
    "    if count == 2: \n",
    "        break"
   ]
  },
  {
   "cell_type": "code",
   "execution_count": 11,
   "metadata": {},
   "outputs": [
    {
     "name": "stdout",
     "output_type": "stream",
     "text": [
      "Found 164105 validated image filenames.\n",
      "Found 18234 validated image filenames.\n"
     ]
    }
   ],
   "source": [
    "BATCH_SIZE = 256\n",
    "IMG_SIZE = 224\n",
    "train_datagen = ImageDataGenerator(\n",
    "    rescale=1./255,\n",
    "    brightness_range=[0.4,1.0])\n",
    "\n",
    "train_generator = train_datagen.flow_from_dataframe(\n",
    "        dataframe=train_df,\n",
    "        directory=train_set,\n",
    "        x_col=\"image_id\",\n",
    "        y_col=[\"x_1\",\"y_1\",\"width\",\"height\"],\n",
    "        class_mode=\"raw\",\n",
    "        #shuffle=True,\n",
    "        target_size=(IMG_SIZE, IMG_SIZE),\n",
    "        batch_size=BATCH_SIZE)\n",
    "\n",
    "valid_generator = train_datagen.flow_from_dataframe(\n",
    "        dataframe=valid_df,\n",
    "        directory=validation_set,\n",
    "        x_col=\"image_id\",\n",
    "        y_col=[\"x_1\",\"y_1\",\"width\",\"height\"],\n",
    "        class_mode=\"raw\",\n",
    "        #shuffle=True,\n",
    "        target_size=(IMG_SIZE, IMG_SIZE),\n",
    "        batch_size=BATCH_SIZE)"
   ]
  },
  {
   "cell_type": "code",
   "execution_count": 10,
   "metadata": {},
   "outputs": [],
   "source": [
    "step_size_train = train_generator.samples/train_generator.batch_size\n",
    "step_size_valid = valid_generator.samples/valid_generator.batch_size"
   ]
  },
  {
   "cell_type": "code",
   "execution_count": 11,
   "metadata": {},
   "outputs": [
    {
     "name": "stdout",
     "output_type": "stream",
     "text": [
      "WARNING:tensorflow:From /home/lorenzo.stacchio/Tesi/master_degree_repo/venv/lib64/python3.6/site-packages/keras/backend/tensorflow_backend.py:4070: The name tf.nn.max_pool is deprecated. Please use tf.nn.max_pool2d instead.\n",
      "\n"
     ]
    }
   ],
   "source": [
    "model = Sequential()\n",
    "model.add(InputLayer(input_shape=(224,224,3)))\n",
    "model.add(Conv2D(filters=32, kernel_size=(3,3), padding=\"same\", activation=\"relu\"))\n",
    "model.add(BatchNormalization())\n",
    "model.add(MaxPooling2D(pool_size=(2,2), strides=2))\n",
    "\n",
    "model.add(Conv2D(filters=64, kernel_size=(3,3), padding=\"same\", activation=\"relu\"))\n",
    "model.add(BatchNormalization())\n",
    "model.add(MaxPooling2D(pool_size=(2,2), strides=2))\n",
    "\n",
    "model.add(Conv2D(filters=128, kernel_size=(3,3), padding=\"same\", activation=\"relu\"))\n",
    "model.add(Conv2D(filters=64, kernel_size=(1,1), activation=\"relu\"))\n",
    "model.add(Conv2D(filters=128, kernel_size=(3,3), padding=\"same\", activation=\"relu\"))\n",
    "model.add(BatchNormalization())\n",
    "model.add(MaxPooling2D(pool_size=(2,2), strides=2))\n",
    "\n",
    "model.add(Conv2D(filters=256, kernel_size=(3,3), padding=\"same\", activation=\"relu\"))\n",
    "model.add(Conv2D(filters=128, kernel_size=(1,1), activation=\"relu\"))\n",
    "model.add(Conv2D(filters=256, kernel_size=(3,3), padding=\"same\", activation=\"relu\"))\n",
    "model.add(BatchNormalization())\n",
    "model.add(MaxPooling2D(pool_size=(2,2), strides=2))\n",
    "\n",
    "model.add(Conv2D(filters=512, kernel_size=(3,3), padding=\"same\", activation=\"relu\"))\n",
    "model.add(Conv2D(filters=256, kernel_size=(1,1), activation=\"relu\"))\n",
    "model.add(Conv2D(filters=512, kernel_size=(3,3), padding=\"same\", activation=\"relu\"))\n",
    "model.add(Conv2D(filters=256, kernel_size=(1,1), activation=\"relu\"))\n",
    "model.add(Conv2D(filters=512, kernel_size=(3,3), padding=\"same\", activation=\"relu\"))\n",
    "model.add(BatchNormalization())\n",
    "model.add(MaxPooling2D(pool_size=(2,2), strides=2))\n",
    "          \n",
    "model.add(Conv2D(filters=1024, kernel_size=(3,3), padding=\"same\", activation=\"relu\"))\n",
    "model.add(Conv2D(filters=512, kernel_size=(1,1), activation=\"relu\"))\n",
    "model.add(Conv2D(filters=1024, kernel_size=(3,3), padding=\"same\", activation=\"relu\"))\n",
    "model.add(Conv2D(filters=512, kernel_size=(1,1), activation=\"relu\"))\n",
    "model.add(Conv2D(filters=1024, kernel_size=(3,3), padding=\"same\", activation=\"relu\"))\n",
    "\n",
    "model.add(GlobalAveragePooling2D())"
   ]
  },
  {
   "cell_type": "code",
   "execution_count": 12,
   "metadata": {},
   "outputs": [
    {
     "name": "stdout",
     "output_type": "stream",
     "text": [
      "Model: \"sequential_1\"\n",
      "_________________________________________________________________\n",
      "Layer (type)                 Output Shape              Param #   \n",
      "=================================================================\n",
      "conv2d_1 (Conv2D)            (None, 224, 224, 32)      896       \n",
      "_________________________________________________________________\n",
      "batch_normalization_1 (Batch (None, 224, 224, 32)      128       \n",
      "_________________________________________________________________\n",
      "max_pooling2d_1 (MaxPooling2 (None, 112, 112, 32)      0         \n",
      "_________________________________________________________________\n",
      "conv2d_2 (Conv2D)            (None, 112, 112, 64)      18496     \n",
      "_________________________________________________________________\n",
      "batch_normalization_2 (Batch (None, 112, 112, 64)      256       \n",
      "_________________________________________________________________\n",
      "max_pooling2d_2 (MaxPooling2 (None, 56, 56, 64)        0         \n",
      "_________________________________________________________________\n",
      "conv2d_3 (Conv2D)            (None, 56, 56, 128)       73856     \n",
      "_________________________________________________________________\n",
      "conv2d_4 (Conv2D)            (None, 56, 56, 64)        8256      \n",
      "_________________________________________________________________\n",
      "conv2d_5 (Conv2D)            (None, 56, 56, 128)       73856     \n",
      "_________________________________________________________________\n",
      "batch_normalization_3 (Batch (None, 56, 56, 128)       512       \n",
      "_________________________________________________________________\n",
      "max_pooling2d_3 (MaxPooling2 (None, 28, 28, 128)       0         \n",
      "_________________________________________________________________\n",
      "conv2d_6 (Conv2D)            (None, 28, 28, 256)       295168    \n",
      "_________________________________________________________________\n",
      "conv2d_7 (Conv2D)            (None, 28, 28, 128)       32896     \n",
      "_________________________________________________________________\n",
      "conv2d_8 (Conv2D)            (None, 28, 28, 256)       295168    \n",
      "_________________________________________________________________\n",
      "batch_normalization_4 (Batch (None, 28, 28, 256)       1024      \n",
      "_________________________________________________________________\n",
      "max_pooling2d_4 (MaxPooling2 (None, 14, 14, 256)       0         \n",
      "_________________________________________________________________\n",
      "conv2d_9 (Conv2D)            (None, 14, 14, 512)       1180160   \n",
      "_________________________________________________________________\n",
      "conv2d_10 (Conv2D)           (None, 14, 14, 256)       131328    \n",
      "_________________________________________________________________\n",
      "conv2d_11 (Conv2D)           (None, 14, 14, 512)       1180160   \n",
      "_________________________________________________________________\n",
      "conv2d_12 (Conv2D)           (None, 14, 14, 256)       131328    \n",
      "_________________________________________________________________\n",
      "conv2d_13 (Conv2D)           (None, 14, 14, 512)       1180160   \n",
      "_________________________________________________________________\n",
      "batch_normalization_5 (Batch (None, 14, 14, 512)       2048      \n",
      "_________________________________________________________________\n",
      "max_pooling2d_5 (MaxPooling2 (None, 7, 7, 512)         0         \n",
      "_________________________________________________________________\n",
      "conv2d_14 (Conv2D)           (None, 7, 7, 1024)        4719616   \n",
      "_________________________________________________________________\n",
      "conv2d_15 (Conv2D)           (None, 7, 7, 512)         524800    \n",
      "_________________________________________________________________\n",
      "conv2d_16 (Conv2D)           (None, 7, 7, 1024)        4719616   \n",
      "_________________________________________________________________\n",
      "conv2d_17 (Conv2D)           (None, 7, 7, 512)         524800    \n",
      "_________________________________________________________________\n",
      "conv2d_18 (Conv2D)           (None, 7, 7, 1024)        4719616   \n",
      "_________________________________________________________________\n",
      "global_average_pooling2d_1 ( (None, 1024)              0         \n",
      "=================================================================\n",
      "Total params: 19,814,144\n",
      "Trainable params: 19,812,160\n",
      "Non-trainable params: 1,984\n",
      "_________________________________________________________________\n"
     ]
    }
   ],
   "source": [
    "model.summary()"
   ]
  },
  {
   "cell_type": "markdown",
   "metadata": {},
   "source": [
    "#model.add(Flatten())\n",
    "model.add(Conv2D(4096, (7, 7), activation='relu'))\n",
    "model.add(Dropout(0.5))\n",
    "model.add(Conv2D(4096, (1, 1), activation='relu'))\n",
    "model.add(Dropout(0.5))\n",
    "model.add(Conv2D(2622, (1, 1)))"
   ]
  },
  {
   "cell_type": "code",
   "execution_count": 13,
   "metadata": {},
   "outputs": [],
   "source": [
    "rule_4_neurons_number = [int(round(x/(i+1),0)) for (x,i) in zip([1024]*2,\n",
    "                                           range(2))]"
   ]
  },
  {
   "cell_type": "code",
   "execution_count": 14,
   "metadata": {},
   "outputs": [],
   "source": [
    "model.add(Dense(rule_4_neurons_number[0], activation=\"relu\"))\n",
    "model.add(Dropout(0.5))\n",
    "model.add(Dense(rule_4_neurons_number[1], activation=\"relu\"))\n",
    "model.add(Dropout(0.5))\n",
    "model.add(Dense(4))"
   ]
  },
  {
   "cell_type": "code",
   "execution_count": 15,
   "metadata": {
    "scrolled": true
   },
   "outputs": [
    {
     "name": "stdout",
     "output_type": "stream",
     "text": [
      "Model: \"sequential_1\"\n",
      "_________________________________________________________________\n",
      "Layer (type)                 Output Shape              Param #   \n",
      "=================================================================\n",
      "conv2d_1 (Conv2D)            (None, 224, 224, 32)      896       \n",
      "_________________________________________________________________\n",
      "batch_normalization_1 (Batch (None, 224, 224, 32)      128       \n",
      "_________________________________________________________________\n",
      "max_pooling2d_1 (MaxPooling2 (None, 112, 112, 32)      0         \n",
      "_________________________________________________________________\n",
      "conv2d_2 (Conv2D)            (None, 112, 112, 64)      18496     \n",
      "_________________________________________________________________\n",
      "batch_normalization_2 (Batch (None, 112, 112, 64)      256       \n",
      "_________________________________________________________________\n",
      "max_pooling2d_2 (MaxPooling2 (None, 56, 56, 64)        0         \n",
      "_________________________________________________________________\n",
      "conv2d_3 (Conv2D)            (None, 56, 56, 128)       73856     \n",
      "_________________________________________________________________\n",
      "conv2d_4 (Conv2D)            (None, 56, 56, 64)        8256      \n",
      "_________________________________________________________________\n",
      "conv2d_5 (Conv2D)            (None, 56, 56, 128)       73856     \n",
      "_________________________________________________________________\n",
      "batch_normalization_3 (Batch (None, 56, 56, 128)       512       \n",
      "_________________________________________________________________\n",
      "max_pooling2d_3 (MaxPooling2 (None, 28, 28, 128)       0         \n",
      "_________________________________________________________________\n",
      "conv2d_6 (Conv2D)            (None, 28, 28, 256)       295168    \n",
      "_________________________________________________________________\n",
      "conv2d_7 (Conv2D)            (None, 28, 28, 128)       32896     \n",
      "_________________________________________________________________\n",
      "conv2d_8 (Conv2D)            (None, 28, 28, 256)       295168    \n",
      "_________________________________________________________________\n",
      "batch_normalization_4 (Batch (None, 28, 28, 256)       1024      \n",
      "_________________________________________________________________\n",
      "max_pooling2d_4 (MaxPooling2 (None, 14, 14, 256)       0         \n",
      "_________________________________________________________________\n",
      "conv2d_9 (Conv2D)            (None, 14, 14, 512)       1180160   \n",
      "_________________________________________________________________\n",
      "conv2d_10 (Conv2D)           (None, 14, 14, 256)       131328    \n",
      "_________________________________________________________________\n",
      "conv2d_11 (Conv2D)           (None, 14, 14, 512)       1180160   \n",
      "_________________________________________________________________\n",
      "conv2d_12 (Conv2D)           (None, 14, 14, 256)       131328    \n",
      "_________________________________________________________________\n",
      "conv2d_13 (Conv2D)           (None, 14, 14, 512)       1180160   \n",
      "_________________________________________________________________\n",
      "batch_normalization_5 (Batch (None, 14, 14, 512)       2048      \n",
      "_________________________________________________________________\n",
      "max_pooling2d_5 (MaxPooling2 (None, 7, 7, 512)         0         \n",
      "_________________________________________________________________\n",
      "conv2d_14 (Conv2D)           (None, 7, 7, 1024)        4719616   \n",
      "_________________________________________________________________\n",
      "conv2d_15 (Conv2D)           (None, 7, 7, 512)         524800    \n",
      "_________________________________________________________________\n",
      "conv2d_16 (Conv2D)           (None, 7, 7, 1024)        4719616   \n",
      "_________________________________________________________________\n",
      "conv2d_17 (Conv2D)           (None, 7, 7, 512)         524800    \n",
      "_________________________________________________________________\n",
      "conv2d_18 (Conv2D)           (None, 7, 7, 1024)        4719616   \n",
      "_________________________________________________________________\n",
      "global_average_pooling2d_1 ( (None, 1024)              0         \n",
      "_________________________________________________________________\n",
      "dense_1 (Dense)              (None, 1024)              1049600   \n",
      "_________________________________________________________________\n",
      "dropout_1 (Dropout)          (None, 1024)              0         \n",
      "_________________________________________________________________\n",
      "dense_2 (Dense)              (None, 512)               524800    \n",
      "_________________________________________________________________\n",
      "dropout_2 (Dropout)          (None, 512)               0         \n",
      "_________________________________________________________________\n",
      "dense_3 (Dense)              (None, 4)                 2052      \n",
      "=================================================================\n",
      "Total params: 21,390,596\n",
      "Trainable params: 21,388,612\n",
      "Non-trainable params: 1,984\n",
      "_________________________________________________________________\n"
     ]
    }
   ],
   "source": [
    "model.summary()"
   ]
  },
  {
   "cell_type": "code",
   "execution_count": 16,
   "metadata": {},
   "outputs": [],
   "source": [
    "model = multi_gpu_model(model, gpus=2) #parallelize model"
   ]
  },
  {
   "cell_type": "code",
   "execution_count": 17,
   "metadata": {},
   "outputs": [],
   "source": [
    "model.compile(optimizer=Adam(lr = 1e-5), loss=yolf_loss, metrics=[\"accuracy\"])"
   ]
  },
  {
   "cell_type": "code",
   "execution_count": 18,
   "metadata": {
    "scrolled": false
   },
   "outputs": [
    {
     "name": "stdout",
     "output_type": "stream",
     "text": [
      "WARNING:tensorflow:From /home/lorenzo.stacchio/Tesi/master_degree_repo/venv/lib64/python3.6/site-packages/keras/backend/tensorflow_backend.py:422: The name tf.global_variables is deprecated. Please use tf.compat.v1.global_variables instead.\n",
      "\n",
      "72/71 [==============================] - 48s 660ms/step\n"
     ]
    },
    {
     "data": {
      "text/plain": [
       "[3360.4677734375, 0.22414171695709229]"
      ]
     },
     "execution_count": 18,
     "metadata": {},
     "output_type": "execute_result"
    }
   ],
   "source": [
    "model.evaluate_generator(valid_generator, steps=step_size_valid, verbose = 1)"
   ]
  },
  {
   "cell_type": "code",
   "execution_count": 19,
   "metadata": {
    "pycharm": {
     "name": "#%%\n"
    }
   },
   "outputs": [
    {
     "name": "stdout",
     "output_type": "stream",
     "text": [
      "WARNING:tensorflow:From /home/lorenzo.stacchio/Tesi/master_degree_repo/venv/lib64/python3.6/site-packages/tensorflow/python/ops/math_grad.py:1250: add_dispatch_support.<locals>.wrapper (from tensorflow.python.ops.array_ops) is deprecated and will be removed in a future version.\n",
      "Instructions for updating:\n",
      "Use tf.where in 2.0, which has the same broadcast rule as np.where\n",
      "Epoch 1/100\n",
      "642/641 [==============================] - 475s 740ms/step - loss: 571.8966 - accuracy: 0.2263 - val_loss: 265.0954 - val_accuracy: 0.2256\n",
      "Epoch 2/100\n",
      "642/641 [==============================] - 473s 736ms/step - loss: 236.1400 - accuracy: 0.3008 - val_loss: 188.8410 - val_accuracy: 0.3620\n",
      "Epoch 3/100\n",
      "642/641 [==============================] - 491s 764ms/step - loss: 171.5799 - accuracy: 0.4030 - val_loss: 79.3686 - val_accuracy: 0.5060\n",
      "Epoch 4/100\n",
      "642/641 [==============================] - 486s 757ms/step - loss: 140.3509 - accuracy: 0.4588 - val_loss: 113.6247 - val_accuracy: 0.5296\n",
      "Epoch 5/100\n",
      "642/641 [==============================] - 473s 736ms/step - loss: 119.9878 - accuracy: 0.4896 - val_loss: 49.9522 - val_accuracy: 0.5536\n",
      "Epoch 6/100\n",
      "642/641 [==============================] - 461s 718ms/step - loss: 105.7709 - accuracy: 0.5030 - val_loss: 70.6362 - val_accuracy: 0.5669\n",
      "Epoch 7/100\n",
      "642/641 [==============================] - 491s 764ms/step - loss: 94.9538 - accuracy: 0.5083 - val_loss: 51.7451 - val_accuracy: 0.5744\n",
      "Epoch 8/100\n",
      "642/641 [==============================] - 488s 761ms/step - loss: 86.2294 - accuracy: 0.5117 - val_loss: 59.7290 - val_accuracy: 0.5706\n",
      "Epoch 9/100\n",
      "642/641 [==============================] - 476s 742ms/step - loss: 79.2491 - accuracy: 0.5126 - val_loss: 70.1615 - val_accuracy: 0.5694\n",
      "Epoch 10/100\n",
      "642/641 [==============================] - 482s 750ms/step - loss: 73.3403 - accuracy: 0.5119 - val_loss: 34.2804 - val_accuracy: 0.5716\n",
      "Epoch 11/100\n",
      "642/641 [==============================] - 490s 762ms/step - loss: 69.5491 - accuracy: 0.5173 - val_loss: 101.4028 - val_accuracy: 0.5678\n",
      "Epoch 12/100\n",
      "642/641 [==============================] - 477s 743ms/step - loss: 65.0304 - accuracy: 0.5209 - val_loss: 51.0452 - val_accuracy: 0.5680\n",
      "Epoch 13/100\n",
      "642/641 [==============================] - 462s 719ms/step - loss: 61.0596 - accuracy: 0.5262 - val_loss: 34.0894 - val_accuracy: 0.5689\n",
      "Epoch 14/100\n",
      "642/641 [==============================] - 464s 722ms/step - loss: 57.8961 - accuracy: 0.5303 - val_loss: 49.7059 - val_accuracy: 0.5758\n",
      "Epoch 15/100\n",
      "642/641 [==============================] - 474s 738ms/step - loss: 55.3261 - accuracy: 0.5399 - val_loss: 30.8166 - val_accuracy: 0.5758\n",
      "Epoch 16/100\n",
      "642/641 [==============================] - 462s 720ms/step - loss: 52.8917 - accuracy: 0.5437 - val_loss: 31.0834 - val_accuracy: 0.5887\n",
      "Epoch 17/100\n",
      "642/641 [==============================] - 468s 729ms/step - loss: 50.7578 - accuracy: 0.5517 - val_loss: 20.2764 - val_accuracy: 0.5973\n",
      "Epoch 18/100\n",
      "642/641 [==============================] - 454s 707ms/step - loss: 48.8614 - accuracy: 0.5604 - val_loss: 54.7011 - val_accuracy: 0.6001\n",
      "Epoch 19/100\n",
      "642/641 [==============================] - 467s 727ms/step - loss: 46.8519 - accuracy: 0.5688 - val_loss: 20.7672 - val_accuracy: 0.6084\n",
      "Epoch 20/100\n",
      "642/641 [==============================] - 461s 718ms/step - loss: 45.6096 - accuracy: 0.5743 - val_loss: 13.4415 - val_accuracy: 0.6135\n",
      "Epoch 21/100\n",
      "642/641 [==============================] - 464s 722ms/step - loss: 43.9435 - accuracy: 0.5817 - val_loss: 28.7100 - val_accuracy: 0.6155\n",
      "Epoch 22/100\n",
      "642/641 [==============================] - 449s 700ms/step - loss: 43.0405 - accuracy: 0.5887 - val_loss: 41.8229 - val_accuracy: 0.6202\n",
      "Epoch 23/100\n",
      "642/641 [==============================] - 451s 702ms/step - loss: 41.4788 - accuracy: 0.5928 - val_loss: 30.5641 - val_accuracy: 0.6202\n",
      "Epoch 24/100\n",
      "642/641 [==============================] - 454s 707ms/step - loss: 40.1712 - accuracy: 0.5978 - val_loss: 14.4747 - val_accuracy: 0.6287\n",
      "Epoch 25/100\n",
      "642/641 [==============================] - 458s 714ms/step - loss: 39.5605 - accuracy: 0.6010 - val_loss: 9.9258 - val_accuracy: 0.6300\n",
      "Epoch 26/100\n",
      "642/641 [==============================] - 467s 727ms/step - loss: 38.5028 - accuracy: 0.6029 - val_loss: 24.1801 - val_accuracy: 0.6314\n",
      "Epoch 27/100\n",
      "642/641 [==============================] - 459s 714ms/step - loss: 38.3632 - accuracy: 0.6051 - val_loss: 15.6245 - val_accuracy: 0.6295\n",
      "Epoch 28/100\n",
      "642/641 [==============================] - 456s 710ms/step - loss: 37.1251 - accuracy: 0.6082 - val_loss: 15.1755 - val_accuracy: 0.6361\n",
      "Epoch 29/100\n",
      "642/641 [==============================] - 469s 730ms/step - loss: 36.3390 - accuracy: 0.6096 - val_loss: 19.3565 - val_accuracy: 0.6352\n",
      "Epoch 30/100\n",
      "642/641 [==============================] - 463s 722ms/step - loss: 35.8284 - accuracy: 0.6112 - val_loss: 17.3364 - val_accuracy: 0.6364\n",
      "Epoch 31/100\n",
      "642/641 [==============================] - 460s 717ms/step - loss: 35.3624 - accuracy: 0.6124 - val_loss: 16.3864 - val_accuracy: 0.6395\n",
      "Epoch 32/100\n",
      "642/641 [==============================] - 467s 728ms/step - loss: 34.8515 - accuracy: 0.6139 - val_loss: 28.6374 - val_accuracy: 0.6357\n",
      "Epoch 33/100\n",
      "642/641 [==============================] - 456s 710ms/step - loss: 34.2412 - accuracy: 0.6141 - val_loss: 11.0617 - val_accuracy: 0.6357\n",
      "Epoch 34/100\n",
      "642/641 [==============================] - 461s 718ms/step - loss: 33.8101 - accuracy: 0.6156 - val_loss: 11.6950 - val_accuracy: 0.6380\n",
      "Epoch 35/100\n",
      "642/641 [==============================] - 451s 702ms/step - loss: 33.2743 - accuracy: 0.6164 - val_loss: 35.5942 - val_accuracy: 0.6350\n",
      "Epoch 36/100\n",
      "642/641 [==============================] - 457s 712ms/step - loss: 32.7936 - accuracy: 0.6166 - val_loss: 15.4393 - val_accuracy: 0.6397\n",
      "Epoch 37/100\n",
      "642/641 [==============================] - 457s 711ms/step - loss: 32.6159 - accuracy: 0.6174 - val_loss: 10.5092 - val_accuracy: 0.6412\n",
      "Epoch 38/100\n",
      "642/641 [==============================] - 450s 701ms/step - loss: 32.2229 - accuracy: 0.6169 - val_loss: 51.8743 - val_accuracy: 0.6324\n",
      "Epoch 39/100\n",
      "642/641 [==============================] - 461s 718ms/step - loss: 31.6468 - accuracy: 0.6185 - val_loss: 18.4810 - val_accuracy: 0.6418\n",
      "Epoch 40/100\n",
      "642/641 [==============================] - 460s 716ms/step - loss: 31.6460 - accuracy: 0.6184 - val_loss: 7.6424 - val_accuracy: 0.6418\n",
      "Epoch 41/100\n",
      "642/641 [==============================] - 456s 711ms/step - loss: 30.9773 - accuracy: 0.6193 - val_loss: 37.6851 - val_accuracy: 0.6424\n",
      "Epoch 42/100\n",
      "642/641 [==============================] - 460s 717ms/step - loss: 30.5155 - accuracy: 0.6204 - val_loss: 11.1102 - val_accuracy: 0.6419\n",
      "Epoch 43/100\n",
      "642/641 [==============================] - 456s 710ms/step - loss: 30.2501 - accuracy: 0.6200 - val_loss: 15.5315 - val_accuracy: 0.6414\n",
      "Epoch 44/100\n",
      "642/641 [==============================] - 466s 726ms/step - loss: 30.1538 - accuracy: 0.6206 - val_loss: 8.7673 - val_accuracy: 0.6416\n",
      "Epoch 45/100\n",
      "642/641 [==============================] - 465s 724ms/step - loss: 29.7418 - accuracy: 0.6202 - val_loss: 28.0262 - val_accuracy: 0.6418\n",
      "Epoch 46/100\n",
      "642/641 [==============================] - 459s 716ms/step - loss: 29.8819 - accuracy: 0.6209 - val_loss: 10.3614 - val_accuracy: 0.6408\n",
      "Epoch 47/100\n",
      "642/641 [==============================] - 457s 711ms/step - loss: 29.3065 - accuracy: 0.6207 - val_loss: 23.1097 - val_accuracy: 0.6419\n",
      "Epoch 48/100\n",
      "642/641 [==============================] - 455s 709ms/step - loss: 29.1570 - accuracy: 0.6210 - val_loss: 10.3695 - val_accuracy: 0.6433\n",
      "Epoch 49/100\n",
      "642/641 [==============================] - 463s 721ms/step - loss: 28.8108 - accuracy: 0.6223 - val_loss: 38.4475 - val_accuracy: 0.6470\n",
      "Epoch 50/100\n",
      "642/641 [==============================] - 465s 725ms/step - loss: 28.6450 - accuracy: 0.6219 - val_loss: 17.3957 - val_accuracy: 0.6444\n",
      "Epoch 51/100\n",
      "642/641 [==============================] - 466s 726ms/step - loss: 28.2544 - accuracy: 0.6216 - val_loss: 28.5932 - val_accuracy: 0.6386\n",
      "Epoch 52/100\n",
      "642/641 [==============================] - 458s 714ms/step - loss: 28.2365 - accuracy: 0.6224 - val_loss: 7.4526 - val_accuracy: 0.6447\n",
      "Epoch 53/100\n",
      "642/641 [==============================] - 462s 719ms/step - loss: 27.7371 - accuracy: 0.6233 - val_loss: 17.6784 - val_accuracy: 0.6455\n",
      "Epoch 54/100\n",
      "642/641 [==============================] - 461s 718ms/step - loss: 27.7041 - accuracy: 0.6220 - val_loss: 15.9179 - val_accuracy: 0.6424\n",
      "Epoch 55/100\n",
      "642/641 [==============================] - 456s 711ms/step - loss: 27.6058 - accuracy: 0.6223 - val_loss: 9.1097 - val_accuracy: 0.6423\n",
      "Epoch 56/100\n",
      "642/641 [==============================] - 458s 714ms/step - loss: 27.1806 - accuracy: 0.6232 - val_loss: 8.0823 - val_accuracy: 0.6458\n",
      "Epoch 57/100\n",
      "642/641 [==============================] - 458s 713ms/step - loss: 26.8738 - accuracy: 0.6223 - val_loss: 17.7750 - val_accuracy: 0.6482\n",
      "Epoch 58/100\n",
      "642/641 [==============================] - 458s 713ms/step - loss: 26.7168 - accuracy: 0.6228 - val_loss: 7.9149 - val_accuracy: 0.6488\n",
      "Epoch 59/100\n",
      "642/641 [==============================] - 455s 709ms/step - loss: 26.8785 - accuracy: 0.6237 - val_loss: 16.0925 - val_accuracy: 0.6466\n",
      "Epoch 60/100\n",
      "642/641 [==============================] - 453s 705ms/step - loss: 26.4155 - accuracy: 0.6247 - val_loss: 10.1659 - val_accuracy: 0.6486\n",
      "Epoch 61/100\n",
      "642/641 [==============================] - 457s 712ms/step - loss: 26.4316 - accuracy: 0.6238 - val_loss: 14.8991 - val_accuracy: 0.6425\n",
      "Epoch 62/100\n",
      "642/641 [==============================] - 459s 715ms/step - loss: 26.5316 - accuracy: 0.6228 - val_loss: 9.4270 - val_accuracy: 0.6488\n",
      "Epoch 63/100\n",
      "642/641 [==============================] - 468s 729ms/step - loss: 26.2433 - accuracy: 0.6248 - val_loss: 17.3685 - val_accuracy: 0.6468\n",
      "Epoch 64/100\n",
      "642/641 [==============================] - 458s 713ms/step - loss: 25.9179 - accuracy: 0.6241 - val_loss: 8.0298 - val_accuracy: 0.6488\n",
      "Epoch 65/100\n",
      "642/641 [==============================] - 449s 700ms/step - loss: 25.5921 - accuracy: 0.6248 - val_loss: 10.0686 - val_accuracy: 0.6462\n",
      "Epoch 66/100\n",
      "642/641 [==============================] - 458s 714ms/step - loss: 25.9928 - accuracy: 0.6244 - val_loss: 11.0012 - val_accuracy: 0.6477\n",
      "Epoch 67/100\n",
      "642/641 [==============================] - 456s 710ms/step - loss: 25.4735 - accuracy: 0.6249 - val_loss: 17.1015 - val_accuracy: 0.6445\n",
      "\n",
      "Epoch 00067: ReduceLROnPlateau reducing learning rate to 9.999999747378752e-07.\n",
      "Epoch 68/100\n",
      "642/641 [==============================] - 456s 711ms/step - loss: 24.5515 - accuracy: 0.6268 - val_loss: 10.3591 - val_accuracy: 0.6482\n",
      "Epoch 69/100\n",
      "642/641 [==============================] - 472s 735ms/step - loss: 24.3812 - accuracy: 0.6265 - val_loss: 11.2469 - val_accuracy: 0.6479\n",
      "Epoch 70/100\n",
      "642/641 [==============================] - 453s 706ms/step - loss: 24.2329 - accuracy: 0.6259 - val_loss: 5.3601 - val_accuracy: 0.6471\n",
      "Epoch 71/100\n",
      "642/641 [==============================] - 451s 703ms/step - loss: 24.3243 - accuracy: 0.6263 - val_loss: 8.8525 - val_accuracy: 0.6474\n",
      "Epoch 72/100\n",
      "642/641 [==============================] - 470s 732ms/step - loss: 24.1613 - accuracy: 0.6260 - val_loss: 7.6970 - val_accuracy: 0.6491\n",
      "Epoch 73/100\n",
      "642/641 [==============================] - 458s 713ms/step - loss: 24.1096 - accuracy: 0.6255 - val_loss: 12.0250 - val_accuracy: 0.6478\n",
      "Epoch 74/100\n",
      "642/641 [==============================] - 456s 710ms/step - loss: 23.9638 - accuracy: 0.6253 - val_loss: 26.1660 - val_accuracy: 0.6469\n",
      "Epoch 75/100\n",
      "642/641 [==============================] - 454s 707ms/step - loss: 23.9467 - accuracy: 0.6247 - val_loss: 7.1211 - val_accuracy: 0.6477\n",
      "Epoch 76/100\n",
      "642/641 [==============================] - 463s 721ms/step - loss: 24.0727 - accuracy: 0.6260 - val_loss: 7.5878 - val_accuracy: 0.6477\n",
      "Epoch 77/100\n",
      "642/641 [==============================] - 460s 717ms/step - loss: 23.9177 - accuracy: 0.6256 - val_loss: 17.0837 - val_accuracy: 0.6460\n",
      "Epoch 78/100\n",
      "642/641 [==============================] - 465s 725ms/step - loss: 23.8916 - accuracy: 0.6259 - val_loss: 7.3337 - val_accuracy: 0.6478\n",
      "Epoch 79/100\n",
      "642/641 [==============================] - 463s 721ms/step - loss: 23.8621 - accuracy: 0.6261 - val_loss: 17.3774 - val_accuracy: 0.6470\n",
      "Epoch 80/100\n",
      "642/641 [==============================] - 462s 719ms/step - loss: 23.7536 - accuracy: 0.6268 - val_loss: 8.8035 - val_accuracy: 0.6477\n",
      "Epoch 81/100\n",
      "642/641 [==============================] - 454s 708ms/step - loss: 23.6949 - accuracy: 0.6258 - val_loss: 22.6437 - val_accuracy: 0.6472\n",
      "Epoch 82/100\n",
      "642/641 [==============================] - 452s 705ms/step - loss: 23.7967 - accuracy: 0.6256 - val_loss: 7.1376 - val_accuracy: 0.6480\n",
      "Epoch 83/100\n",
      "642/641 [==============================] - 454s 708ms/step - loss: 23.7618 - accuracy: 0.6250 - val_loss: 70.6095 - val_accuracy: 0.6491\n",
      "Epoch 84/100\n",
      "642/641 [==============================] - 459s 716ms/step - loss: 23.8016 - accuracy: 0.6263 - val_loss: 18.9250 - val_accuracy: 0.6477\n",
      "Epoch 85/100\n",
      "642/641 [==============================] - 462s 720ms/step - loss: 23.6892 - accuracy: 0.6259 - val_loss: 20.4080 - val_accuracy: 0.6476\n",
      "\n",
      "Epoch 00085: ReduceLROnPlateau reducing learning rate to 9.999999974752428e-08.\n",
      "Epoch 86/100\n",
      "642/641 [==============================] - 454s 707ms/step - loss: 23.5044 - accuracy: 0.6258 - val_loss: 6.8423 - val_accuracy: 0.6481\n",
      "Epoch 87/100\n",
      "642/641 [==============================] - 456s 710ms/step - loss: 23.4154 - accuracy: 0.6263 - val_loss: 17.5235 - val_accuracy: 0.6482\n",
      "Epoch 88/100\n",
      "642/641 [==============================] - 466s 725ms/step - loss: 23.4893 - accuracy: 0.6258 - val_loss: 32.2438 - val_accuracy: 0.6477\n",
      "Epoch 89/100\n",
      "642/641 [==============================] - 456s 710ms/step - loss: 23.5233 - accuracy: 0.6269 - val_loss: 10.4544 - val_accuracy: 0.6478\n",
      "Epoch 90/100\n",
      "642/641 [==============================] - 461s 718ms/step - loss: 23.6251 - accuracy: 0.6257 - val_loss: 21.2515 - val_accuracy: 0.6480\n",
      "Epoch 91/100\n",
      "642/641 [==============================] - 467s 728ms/step - loss: 23.5449 - accuracy: 0.6268 - val_loss: 13.5082 - val_accuracy: 0.6481\n",
      "Epoch 92/100\n",
      "642/641 [==============================] - 452s 704ms/step - loss: 23.6433 - accuracy: 0.6263 - val_loss: 12.7498 - val_accuracy: 0.6481\n",
      "Epoch 93/100\n",
      "642/641 [==============================] - 462s 720ms/step - loss: 23.5841 - accuracy: 0.6262 - val_loss: 8.6712 - val_accuracy: 0.6470\n",
      "Epoch 94/100\n",
      "642/641 [==============================] - 455s 709ms/step - loss: 23.4712 - accuracy: 0.6270 - val_loss: 9.7380 - val_accuracy: 0.6482\n",
      "Epoch 95/100\n",
      "642/641 [==============================] - 442s 689ms/step - loss: 23.5807 - accuracy: 0.6258 - val_loss: 6.0501 - val_accuracy: 0.6483\n",
      "Epoch 96/100\n",
      "642/641 [==============================] - 465s 724ms/step - loss: 23.6129 - accuracy: 0.6260 - val_loss: 6.0466 - val_accuracy: 0.6480\n",
      "Epoch 97/100\n",
      "642/641 [==============================] - 462s 719ms/step - loss: 23.4766 - accuracy: 0.6266 - val_loss: 10.0646 - val_accuracy: 0.6479\n",
      "Epoch 98/100\n",
      "642/641 [==============================] - 463s 721ms/step - loss: 23.5696 - accuracy: 0.6264 - val_loss: 26.0783 - val_accuracy: 0.6480\n",
      "Epoch 99/100\n",
      "642/641 [==============================] - 454s 707ms/step - loss: 23.3611 - accuracy: 0.6263 - val_loss: 6.5275 - val_accuracy: 0.6479\n",
      "Epoch 100/100\n",
      "642/641 [==============================] - 466s 726ms/step - loss: 23.4335 - accuracy: 0.6266 - val_loss: 9.7741 - val_accuracy: 0.6481\n",
      "\n",
      "Epoch 00100: ReduceLROnPlateau reducing learning rate to 1.0000000116860975e-08.\n"
     ]
    }
   ],
   "source": [
    "earlyStopping = EarlyStopping(monitor='val_loss', patience=60, verbose=1, mode='min')\n",
    "mcp_save = ModelCheckpoint('yolf.h5', save_best_only=True, monitor='val_loss', mode='min')\n",
    "reduce_lr_loss = ReduceLROnPlateau(monitor='val_loss', factor=0.1, patience=15, verbose=1, mode='min')\n",
    "\n",
    "history = model.fit_generator(generator=train_generator, epochs=100, steps_per_epoch=step_size_train, validation_data=valid_generator, validation_steps=step_size_valid, verbose=1, callbacks=[mcp_save, earlyStopping, reduce_lr_loss])"
   ]
  },
  {
   "cell_type": "code",
   "execution_count": 20,
   "metadata": {
    "pycharm": {
     "name": "#%%\n"
    }
   },
   "outputs": [],
   "source": [
    "#print(history.history)"
   ]
  },
  {
   "cell_type": "code",
   "execution_count": 21,
   "metadata": {},
   "outputs": [
    {
     "data": {
      "image/png": "[encoded data removed]",
      "text/plain": [
       "<Figure size 576x576 with 2 Axes>"
      ]
     },
     "metadata": {
      "needs_background": "light"
     },
     "output_type": "display_data"
    }
   ],
   "source": [
    "acc = history.history['accuracy']\n",
    "val_acc = history.history['val_accuracy']\n",
    "\n",
    "loss = history.history['loss']\n",
    "val_loss = history.history['val_loss']\n",
    "\n",
    "plt.figure(figsize=(8, 8))\n",
    "plt.subplot(2, 1, 1)\n",
    "plt.plot(acc, label='Training accuracy')\n",
    "plt.plot(val_acc, label='Validation accuracy')\n",
    "plt.legend(loc='lower right')\n",
    "plt.ylabel('accuracy')\n",
    "plt.ylim([min(plt.ylim()),1])\n",
    "plt.title('Training and Validation accuracy')\n",
    "\n",
    "plt.subplot(2, 1, 2)\n",
    "plt.plot(loss, label='Training Loss')\n",
    "plt.plot(val_loss, label='Validation Loss')\n",
    "plt.legend(loc='upper right')\n",
    "plt.ylabel('Yolo loss')\n",
    "plt.ylim([0,25000])\n",
    "plt.title('Training and Validation Loss')\n",
    "plt.xlabel('epoch')\n",
    "plt.show()"
   ]
  },
  {
   "cell_type": "code",
   "execution_count": 22,
   "metadata": {
    "pycharm": {
     "name": "#%%\n"
    }
   },
   "outputs": [
    {
     "name": "stdout",
     "output_type": "stream",
     "text": [
      "Saved model to disk\n"
     ]
    }
   ],
   "source": [
    "import pandas as pd\n",
    "dict_data = history.history\n",
    "df = pd.DataFrame.from_dict(dict_data, dtype=float)\n",
    "csv_file = \"yolf2.csv\"\n",
    "df.to_csv(csv_file)\n",
    "\n",
    "model_json = model.to_json()\n",
    "with open(\"yolf2.json\", \"w\") as json_file:\n",
    "    json_file.write(model_json)\n",
    "# serialize weights to HDF5\n",
    "#model.save_weights(\"resnet50.h5\")\n",
    "print(\"Saved model to disk\")"
   ]
  },
  {
   "cell_type": "code",
   "execution_count": 12,
   "metadata": {
    "pycharm": {
     "name": "#%%\n"
    }
   },
   "outputs": [],
   "source": [
    "import keras"
   ]
  },
  {
   "cell_type": "code",
   "execution_count": 13,
   "metadata": {
    "pycharm": {
     "name": "#%%\n"
    }
   },
   "outputs": [
    {
     "name": "stdout",
     "output_type": "stream",
     "text": [
      "Model: \"model_1\"\n",
      "__________________________________________________________________________________________________\n",
      "Layer (type)                    Output Shape         Param #     Connected to                     \n",
      "==================================================================================================\n",
      "input_1 (InputLayer)            (None, 224, 224, 3)  0                                            \n",
      "__________________________________________________________________________________________________\n",
      "lambda_1 (Lambda)               (None, 224, 224, 3)  0           input_1[0][0]                    \n",
      "__________________________________________________________________________________________________\n",
      "lambda_2 (Lambda)               (None, 224, 224, 3)  0           input_1[0][0]                    \n",
      "__________________________________________________________________________________________________\n",
      "sequential_1 (Sequential)       (None, 4)            21390596    lambda_1[0][0]                   \n",
      "                                                                 lambda_2[0][0]                   \n",
      "__________________________________________________________________________________________________\n",
      "dense_3 (Concatenate)           (None, 4)            0           sequential_1[1][0]               \n",
      "                                                                 sequential_1[2][0]               \n",
      "==================================================================================================\n",
      "Total params: 21,390,596\n",
      "Trainable params: 21,388,612\n",
      "Non-trainable params: 1,984\n",
      "__________________________________________________________________________________________________\n"
     ]
    }
   ],
   "source": [
    "json_file = open('yolf2.json', 'r') \n",
    "loaded_model_json = json_file.read() \n",
    "json_file.close() \n",
    "loaded_model = keras.models.model_from_json(loaded_model_json) \n",
    "loaded_model.summary()"
   ]
  },
  {
   "cell_type": "code",
   "execution_count": 14,
   "metadata": {
    "pycharm": {
     "name": "#%%\n"
    }
   },
   "outputs": [
    {
     "name": "stdout",
     "output_type": "stream",
     "text": [
      "Loaded model from disk\n"
     ]
    }
   ],
   "source": [
    "#load weights into new model \n",
    "loaded_model.load_weights(\"yolf.h5\") \n",
    "print(\"Loaded model from disk\") \n",
    "#evaluate loaded model on test data \n",
    "loaded_model.compile( optimizer= keras.optimizers.Adam(lr=1e-4), \n",
    "loss = keras.losses.categorical_crossentropy, metrics=['accuracy'])"
   ]
  },
  {
   "cell_type": "code",
   "execution_count": 16,
   "metadata": {},
   "outputs": [
    {
     "name": "stdout",
     "output_type": "stream",
     "text": [
      "Found 20260 validated image filenames.\n",
      "WARNING:tensorflow:From /home/lorenzo.stacchio/Tesi/master_degree_repo/venv/lib64/python3.6/site-packages/keras/backend/tensorflow_backend.py:422: The name tf.global_variables is deprecated. Please use tf.compat.v1.global_variables instead.\n",
      "\n",
      "80/79 [==============================] - 33s 407ms/step\n"
     ]
    }
   ],
   "source": [
    "test_datagen = ImageDataGenerator(rescale=1./255)\n",
    "\n",
    "\n",
    "test_generator = test_datagen.flow_from_dataframe(dataframe=test_df,\n",
    "                                    directory=test_set,\n",
    "                                    x_col=\"image_id\",\n",
    "                                    y_col=[\"x_1\",\"y_1\",\"width\",\"height\"],\n",
    "                                    class_mode=\"raw\",\n",
    "                                    shuffle=True,\n",
    "                                    target_size=(IMG_SIZE, IMG_SIZE),\n",
    "                                    batch_size=BATCH_SIZE)\n",
    "\n",
    "STEP_SIZE_TEST = test_generator.n / test_generator.batch_size \n",
    "\n",
    "\n",
    "#CHANGE PARALLEL MODEL\n",
    "pred=loaded_model.predict_generator(test_generator,  steps=STEP_SIZE_TEST,  verbose=1)"
   ]
  },
  {
   "cell_type": "code",
   "execution_count": 17,
   "metadata": {},
   "outputs": [
    {
     "name": "stdout",
     "output_type": "stream",
     "text": [
      "[65.7348   35.533726 75.08704  86.57357 ] [78.84282   9.634201 66.534645 81.24601 ] [ 49.349197  33.966312  98.17223  110.978935]\n"
     ]
    }
   ],
   "source": [
    "print(pred[1],pred[2],pred[3])"
   ]
  },
  {
   "cell_type": "code",
   "execution_count": 18,
   "metadata": {},
   "outputs": [],
   "source": [
    "from PIL import  Image, ImageDraw\n",
    "\n",
    "count = 0\n",
    "\n",
    "for gen_image in test_generator:\n",
    "    img = Image.fromarray(np.uint8((gen_image[0][0])*255))\n",
    "    img1 = ImageDraw.Draw(img)\n",
    "    x1,y1 = pred[count][0],pred[count][1]\n",
    "    x4,y4= pred[count][0] + pred[count][2], pred[count][1] + pred[count][3]\n",
    "    img1.rectangle([(x1,y1),(x4,y4)], outline =\"red\") \n",
    "    #img.show() \n",
    "    img.save(\"/home/lorenzo.stacchio/ML/Machine_learning_project/dataset/NUOVO/results_yolf_v2/output\"+ str(count) + \".jpg\")\n",
    "    #print(gen_image[0][0].shape,pred[count])\n",
    "    count = count + 1\n",
    "    if count == 200:\n",
    "        break"
   ]
  },
  {
   "cell_type": "code",
   "execution_count": null,
   "metadata": {},
   "outputs": [],
   "source": []
  }
 ],
 "metadata": {
  "kernelspec": {
   "display_name": "Python 3",
   "language": "python",
   "name": "python3"
  },
  "language_info": {
   "codemirror_mode": {
    "name": "ipython",
    "version": 3
   },
   "file_extension": ".py",
   "mimetype": "text/x-python",
   "name": "python",
   "nbconvert_exporter": "python",
   "pygments_lexer": "ipython3",
   "version": "3.6.7"
  },
  "pycharm": {
   "stem_cell": {
    "cell_type": "raw",
    "source": [],
    "metadata": {
     "collapsed": false
    }
   }
  }
 },
 "nbformat": 4,
 "nbformat_minor": 1
}